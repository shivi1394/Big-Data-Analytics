{
 "cells": [
  {
   "cell_type": "code",
   "execution_count": 1,
   "metadata": {
    "collapsed": true
   },
   "outputs": [],
   "source": [
    "import torch\n",
    "import torchvision\n",
    "import torchvision.datasets as datasets\n",
    "import torchvision.transforms as transforms\n",
    "import torch.nn as nn\n",
    "import torch.nn.functional as F\n",
    "import torch.optim as optim\n",
    "import matplotlib \n",
    "import matplotlib.pyplot as plt\n",
    "import numpy as np\n",
    "import pandas as pd\n",
    "import random\n",
    "import math\n",
    "from torch.utils.data.sampler import SubsetRandomSampler"
   ]
  },
  {
   "cell_type": "code",
   "execution_count": 2,
   "metadata": {
    "collapsed": true
   },
   "outputs": [],
   "source": [
    "#Multi-Layer Perceptron Model\n",
    "class MLP(nn.Module):\n",
    "    def __init__(self):\n",
    "        super(MLP, self).__init__()\n",
    "        self.fc1 = nn.Linear(28*28, 500)\n",
    "        self.fc2 = nn.Linear(500, 256)\n",
    "        self.fc3 = nn.Linear(256, 10)\n",
    "        \n",
    "\n",
    "    def forward(self, x):\n",
    "        x = x.view(-1, 28*28)\n",
    "        x = F.relu(self.fc1(x))\n",
    "        x = F.relu(self.fc2(x))\n",
    "        x = self.fc3(x)\n",
    "        return x\n",
    "\n",
    "\n",
    "MLP_network = MLP()"
   ]
  },
  {
   "cell_type": "code",
   "execution_count": 3,
   "metadata": {
    "collapsed": true
   },
   "outputs": [],
   "source": [
    "criterion = nn.CrossEntropyLoss() \n",
    "optimizer = optim.Adam(MLP_network.parameters(), lr=0.001, betas=(0.9,0.99), eps=1e-08, weight_decay=0.001) "
   ]
  },
  {
   "cell_type": "code",
   "execution_count": 4,
   "metadata": {
    "collapsed": true
   },
   "outputs": [],
   "source": [
    "# transforms to apply to the Fashion mnist data\n",
    "normalize = transforms.Normalize(mean=[x/255.0 for x in [125.3, 123.0, 113.9]],\n",
    "                                     std=[x/255.0 for x in [63.0, 62.1, 66.7]])\n",
    "\n",
    "transform = transforms.Compose([transforms.ToTensor(),\n",
    "                                transforms.Normalize((0.1307,), (0.3081,))])\n",
    "\n",
    "# Fashion MNIST dataset\n",
    "fashion_trainset = datasets.FashionMNIST(root='./fmnist/', train=True, download=True, transform=transform)"
   ]
  },
  {
   "cell_type": "code",
   "execution_count": 5,
   "metadata": {},
   "outputs": [
    {
     "data": {
      "image/png": "[encoded data removed]",
      "text/plain": [
       "<matplotlib.figure.Figure at 0x11815f208>"
      ]
     },
     "metadata": {},
     "output_type": "display_data"
    }
   ],
   "source": [
    "labels_map = ('T-Shirt', 'Trouser', 'Pullover', 'Dress', 'Coat', 'Sandal', 'Shirt','Sneaker', 'Bag', 'Ankle Boot')\n",
    "fig = plt.figure(figsize=(10,10));\n",
    "columns = 4;\n",
    "rows = 5;\n",
    "for i in range(1, 10):\n",
    "    fig.add_subplot(rows, columns, i)\n",
    "    fig.tight_layout()\n",
    "    plt.imshow(fashion_trainset.train_data[i].numpy(), cmap='gray')\n",
    "    plt.title('Training Label : %s' % labels_map[fashion_trainset.train_labels[i]])\n",
    "plt.show()"
   ]
  },
  {
   "cell_type": "code",
   "execution_count": 7,
   "metadata": {},
   "outputs": [],
   "source": [
    "num_train = len(fashion_trainset)\n",
    "indices = list(range(num_train))\n",
    "#Splitting the Dataset into 10% Training set and 90% Validation Set\n",
    "split = 54000\n",
    "\n",
    "# Random, non-contiguous split\n",
    "validation_idx = np.random.choice(indices, size=split, replace=False)\n",
    "train_idx = list(set(indices) - set(validation_idx))\n",
    "\n",
    "# Contiguous split\n",
    "# train_idx, validation_idx = indices[split:], indices[:split]\n",
    "\n",
    "## define our samplers -- we use a SubsetRandomSampler because it will return\n",
    "## a random subset of the split defined by the given indices without replaf\n",
    "train_sampler = SubsetRandomSampler(train_idx)\n",
    "validation_sampler = SubsetRandomSampler(validation_idx)\n",
    "\n",
    "train_loader1 = torch.utils.data.DataLoader(fashion_trainset, batch_size=10, sampler=train_sampler)\n",
    "\n",
    "validation_loader1 = torch.utils.data.DataLoader(fashion_trainset, batch_size=10, sampler=validation_sampler)\n"
   ]
  },
  {
   "cell_type": "code",
   "execution_count": 8,
   "metadata": {},
   "outputs": [
    {
     "name": "stdout",
     "output_type": "stream",
     "text": [
      "----------------------------------------------------\n",
      "Epoch 1  | Loss : 0.6847\n",
      "----------------------------------------------------\n",
      "Epoch 2  | Loss : 0.4843\n",
      "----------------------------------------------------\n",
      "Epoch 3  | Loss : 0.4438\n",
      "----------------------------------------------------\n",
      "Epoch 4  | Loss : 0.4056\n",
      "----------------------------------------------------\n",
      "Epoch 5  | Loss : 0.3761\n",
      "----------------------------------------------------\n",
      "Epoch 6  | Loss : 0.3554\n",
      "----------------------------------------------------\n",
      "Epoch 7  | Loss : 0.3372\n",
      "----------------------------------------------------\n",
      "Epoch 8  | Loss : 0.3142\n",
      "----------------------------------------------------\n",
      "Epoch 9  | Loss : 0.3094\n",
      "----------------------------------------------------\n",
      "Epoch 10  | Loss : 0.2994\n",
      "----------------------------------------------------\n",
      "Epoch 11  | Loss : 0.2833\n",
      "----------------------------------------------------\n",
      "Epoch 12  | Loss : 0.2777\n",
      "----------------------------------------------------\n",
      "Epoch 13  | Loss : 0.2817\n",
      "----------------------------------------------------\n",
      "Epoch 14  | Loss : 0.2591\n",
      "----------------------------------------------------\n",
      "Epoch 15  | Loss : 0.2557\n",
      "----------------------------------------------------\n",
      "Epoch 16  | Loss : 0.2509\n",
      "----------------------------------------------------\n",
      "Epoch 17  | Loss : 0.2393\n",
      "----------------------------------------------------\n",
      "Epoch 18  | Loss : 0.2486\n",
      "----------------------------------------------------\n",
      "Epoch 19  | Loss : 0.2320\n",
      "----------------------------------------------------\n",
      "Epoch 20  | Loss : 0.2192\n",
      "----------------------------------------------------\n",
      "Finished Training\n"
     ]
    }
   ],
   "source": [
    "#MLP on 10% of the Training Dataset\n",
    "num_epochs = 20\n",
    "total_step = len(train_loader1)\n",
    "Loss_f1 = []\n",
    "print('----------------------------------------------------')\n",
    "for epoch in range(num_epochs):  # loop over the dataset multiple times\n",
    "\n",
    "    running_loss = 0.0\n",
    "    for i, data in enumerate(train_loader1, 0):\n",
    "        # get the inputs\n",
    "        inputs, labels = data\n",
    "\n",
    "        # zero the parameter gradients\n",
    "        optimizer.zero_grad()\n",
    "\n",
    "        # forward + backward + optimize\n",
    "        outputs = MLP_network(inputs)\n",
    "        loss = criterion(outputs, labels)\n",
    "        loss.backward()\n",
    "        optimizer.step()\n",
    "\n",
    "        # print statistics\n",
    "        running_loss += loss.item()\n",
    "        \n",
    "    print('Epoch {}  | Loss : {:.4f}'.format(epoch+1, running_loss / total_step))        \n",
    "    print('----------------------------------------------------')\n",
    "    Loss_f1.append(running_loss / total_step)\n",
    "print('Finished Training')"
   ]
  },
  {
   "cell_type": "code",
   "execution_count": 9,
   "metadata": {},
   "outputs": [
    {
     "name": "stdout",
     "output_type": "stream",
     "text": [
      "Accuracy of the network on the 54000 test images: 83 %\n"
     ]
    }
   ],
   "source": [
    "#Accuracy of 90% of the Validation Test Dataset\n",
    "correct = 0\n",
    "total = 0\n",
    "with torch.no_grad():\n",
    "    for data in validation_loader1:\n",
    "        images, labels = data\n",
    "        outputs = MLP_network(images)\n",
    "        _, predicted = torch.max(outputs.data, 1)\n",
    "        total += labels.size(0)\n",
    "        correct += (predicted == labels).sum().item()\n",
    "\n",
    "print('Accuracy of the network on the 54000 test images: %d %%' % (100 * correct / total))"
   ]
  },
  {
   "cell_type": "code",
   "execution_count": 10,
   "metadata": {},
   "outputs": [
    {
     "name": "stdout",
     "output_type": "stream",
     "text": [
      "Accuracy of class T-Shirt : 83 %\n",
      "Accuracy of class Trouser : 95 %\n",
      "Accuracy of class Pullover : 71 %\n",
      "Accuracy of class Dress : 73 %\n",
      "Accuracy of class  Coat : 93 %\n",
      "Accuracy of class Sandal : 88 %\n",
      "Accuracy of class Shirt : 46 %\n",
      "Accuracy of class Sneaker : 94 %\n",
      "Accuracy of class   Bag : 95 %\n",
      "Accuracy of class Ankle Boot : 94 %\n"
     ]
    }
   ],
   "source": [
    "class_correct = list(0. for i in range(10))\n",
    "class_total = list(0. for i in range(10))\n",
    "with torch.no_grad():\n",
    "    for data in validation_loader1:\n",
    "        images, labels = data\n",
    "        outputs = MLP_network(images)\n",
    "        _, predicted = torch.max(outputs, 1)\n",
    "        c = (predicted == labels).squeeze()\n",
    "        for i in range(10):\n",
    "            label = labels[i]\n",
    "            class_correct[label] += c[i].item()\n",
    "            class_total[label] += 1\n",
    "\n",
    "\n",
    "for i in range(10):\n",
    "    print('Accuracy of class %5s : %2d %%' % (\n",
    "        labels_map[i], 100 * class_correct[i] / class_total[i]))"
   ]
  },
  {
   "cell_type": "code",
   "execution_count": 11,
   "metadata": {
    "collapsed": true
   },
   "outputs": [],
   "source": [
    "num_train = len(fashion_trainset)\n",
    "indices = list(range(num_train))\n",
    "#Splitting the Dataset into 20% Training set and 80% Validation Set\n",
    "split = 48000\n",
    "\n",
    "# Random, non-contiguous split\n",
    "validation_idx = np.random.choice(indices, size=split, replace=False)\n",
    "train_idx = list(set(indices) - set(validation_idx))\n",
    "\n",
    "# Contiguous split\n",
    "# train_idx, validation_idx = indices[split:], indices[:split]\n",
    "\n",
    "## define our samplers -- we use a SubsetRandomSampler because it will return\n",
    "## a random subset of the split defined by the given indices without replaf\n",
    "train_sampler = SubsetRandomSampler(train_idx)\n",
    "validation_sampler = SubsetRandomSampler(validation_idx)\n",
    "\n",
    "train_loader2 = torch.utils.data.DataLoader(fashion_trainset, batch_size=10, sampler=train_sampler)\n",
    "\n",
    "validation_loader2 = torch.utils.data.DataLoader(fashion_trainset, batch_size=10, sampler=validation_sampler)\n"
   ]
  },
  {
   "cell_type": "code",
   "execution_count": 12,
   "metadata": {},
   "outputs": [
    {
     "name": "stdout",
     "output_type": "stream",
     "text": [
      "----------------------------------------------------\n",
      "Epoch 1  | Loss : 0.4258\n",
      "----------------------------------------------------\n",
      "Epoch 2  | Loss : 0.3773\n",
      "----------------------------------------------------\n",
      "Epoch 3  | Loss : 0.3585\n",
      "----------------------------------------------------\n",
      "Epoch 4  | Loss : 0.3451\n",
      "----------------------------------------------------\n",
      "Epoch 5  | Loss : 0.3306\n",
      "----------------------------------------------------\n",
      "Epoch 6  | Loss : 0.3165\n",
      "----------------------------------------------------\n",
      "Epoch 7  | Loss : 0.3117\n",
      "----------------------------------------------------\n",
      "Epoch 8  | Loss : 0.3065\n",
      "----------------------------------------------------\n",
      "Epoch 9  | Loss : 0.3008\n",
      "----------------------------------------------------\n",
      "Epoch 10  | Loss : 0.2873\n",
      "----------------------------------------------------\n",
      "Epoch 11  | Loss : 0.2873\n",
      "----------------------------------------------------\n",
      "Epoch 12  | Loss : 0.2805\n",
      "----------------------------------------------------\n",
      "Epoch 13  | Loss : 0.2772\n",
      "----------------------------------------------------\n",
      "Epoch 14  | Loss : 0.2715\n",
      "----------------------------------------------------\n",
      "Epoch 15  | Loss : 0.2736\n",
      "----------------------------------------------------\n",
      "Epoch 16  | Loss : 0.2706\n",
      "----------------------------------------------------\n",
      "Epoch 17  | Loss : 0.2624\n",
      "----------------------------------------------------\n",
      "Epoch 18  | Loss : 0.2699\n",
      "----------------------------------------------------\n",
      "Epoch 19  | Loss : 0.2653\n",
      "----------------------------------------------------\n",
      "Epoch 20  | Loss : 0.2614\n",
      "----------------------------------------------------\n",
      "Finished Training\n"
     ]
    }
   ],
   "source": [
    "#MLP on 20% of the Training Dataset\n",
    "num_epochs = 20\n",
    "total_step = len(train_loader2)\n",
    "Loss_f2 = []\n",
    "print('----------------------------------------------------')\n",
    "for epoch in range(num_epochs):  # loop over the dataset multiple times\n",
    "\n",
    "    running_loss = 0.0\n",
    "    for i, data in enumerate(train_loader2, 0):\n",
    "        # get the inputs\n",
    "        inputs, labels = data\n",
    "\n",
    "        # zero the parameter gradients\n",
    "        optimizer.zero_grad()\n",
    "\n",
    "        # forward + backward + optimize\n",
    "        outputs = MLP_network(inputs)\n",
    "        loss = criterion(outputs, labels)\n",
    "        loss.backward()\n",
    "        optimizer.step()\n",
    "\n",
    "        # print statistics\n",
    "        running_loss += loss.item()\n",
    "        \n",
    "    print('Epoch {}  | Loss : {:.4f}'.format(epoch+1, running_loss / total_step))        \n",
    "    print('----------------------------------------------------')\n",
    "    Loss_f2.append(running_loss / total_step)\n",
    "print('Finished Training')"
   ]
  },
  {
   "cell_type": "code",
   "execution_count": 13,
   "metadata": {},
   "outputs": [
    {
     "name": "stdout",
     "output_type": "stream",
     "text": [
      "Accuracy of the network on the 48000 test images: 84 %\n"
     ]
    }
   ],
   "source": [
    "#Accuracy of 80% of the Validation Test Dataset\n",
    "correct = 0\n",
    "total = 0\n",
    "with torch.no_grad():\n",
    "    for data in validation_loader2:\n",
    "        images, labels = data\n",
    "        outputs = MLP_network(images)\n",
    "        _, predicted = torch.max(outputs.data, 1)\n",
    "        total += labels.size(0)\n",
    "        correct += (predicted == labels).sum().item()\n",
    "\n",
    "print('Accuracy of the network on the 48000 test images: %d %%' % (100 * correct / total))"
   ]
  },
  {
   "cell_type": "code",
   "execution_count": 14,
   "metadata": {},
   "outputs": [
    {
     "name": "stdout",
     "output_type": "stream",
     "text": [
      "Accuracy of class T-Shirt : 72 %\n",
      "Accuracy of class Trouser : 96 %\n",
      "Accuracy of class Pullover : 60 %\n",
      "Accuracy of class Dress : 88 %\n",
      "Accuracy of class  Coat : 79 %\n",
      "Accuracy of class Sandal : 91 %\n",
      "Accuracy of class Shirt : 79 %\n",
      "Accuracy of class Sneaker : 97 %\n",
      "Accuracy of class   Bag : 94 %\n",
      "Accuracy of class Ankle Boot : 87 %\n"
     ]
    }
   ],
   "source": [
    "class_correct = list(0. for i in range(10))\n",
    "class_total = list(0. for i in range(10))\n",
    "with torch.no_grad():\n",
    "    for data in validation_loader2:\n",
    "        images, labels = data\n",
    "        outputs = MLP_network(images)\n",
    "        _, predicted = torch.max(outputs, 1)\n",
    "        c = (predicted == labels).squeeze()\n",
    "        for i in range(10):\n",
    "            label = labels[i]\n",
    "            class_correct[label] += c[i].item()\n",
    "            class_total[label] += 1\n",
    "\n",
    "\n",
    "for i in range(10):\n",
    "    print('Accuracy of class %5s : %2d %%' % (\n",
    "        labels_map[i], 100 * class_correct[i] / class_total[i]))"
   ]
  },
  {
   "cell_type": "code",
   "execution_count": 15,
   "metadata": {
    "collapsed": true
   },
   "outputs": [],
   "source": [
    "num_train = len(fashion_trainset)\n",
    "indices = list(range(num_train))\n",
    "#Splitting the Dataset into 30% Training set and 70% Validation Set\n",
    "split = 42000\n",
    "\n",
    "# Random, non-contiguous split\n",
    "validation_idx = np.random.choice(indices, size=split, replace=False)\n",
    "train_idx = list(set(indices) - set(validation_idx))\n",
    "\n",
    "# Contiguous split\n",
    "# train_idx, validation_idx = indices[split:], indices[:split]\n",
    "\n",
    "## define our samplers -- we use a SubsetRandomSampler because it will return\n",
    "## a random subset of the split defined by the given indices without replaf\n",
    "train_sampler = SubsetRandomSampler(train_idx)\n",
    "validation_sampler = SubsetRandomSampler(validation_idx)\n",
    "\n",
    "train_loader3 = torch.utils.data.DataLoader(fashion_trainset, batch_size=10, sampler=train_sampler)\n",
    "\n",
    "validation_loader3 = torch.utils.data.DataLoader(fashion_trainset, batch_size=10, sampler=validation_sampler)"
   ]
  },
  {
   "cell_type": "code",
   "execution_count": 16,
   "metadata": {},
   "outputs": [
    {
     "name": "stdout",
     "output_type": "stream",
     "text": [
      "----------------------------------------------------\n",
      "Epoch 1  | Loss : 0.3880\n",
      "----------------------------------------------------\n",
      "Epoch 2  | Loss : 0.3533\n",
      "----------------------------------------------------\n",
      "Epoch 3  | Loss : 0.3358\n",
      "----------------------------------------------------\n",
      "Epoch 4  | Loss : 0.3257\n",
      "----------------------------------------------------\n",
      "Epoch 5  | Loss : 0.3178\n",
      "----------------------------------------------------\n",
      "Epoch 6  | Loss : 0.3133\n",
      "----------------------------------------------------\n",
      "Epoch 7  | Loss : 0.3053\n",
      "----------------------------------------------------\n",
      "Epoch 8  | Loss : 0.2976\n",
      "----------------------------------------------------\n",
      "Epoch 9  | Loss : 0.2990\n",
      "----------------------------------------------------\n",
      "Epoch 10  | Loss : 0.2955\n",
      "----------------------------------------------------\n",
      "Epoch 11  | Loss : 0.2931\n",
      "----------------------------------------------------\n",
      "Epoch 12  | Loss : 0.2914\n",
      "----------------------------------------------------\n",
      "Epoch 13  | Loss : 0.2870\n",
      "----------------------------------------------------\n",
      "Epoch 14  | Loss : 0.2893\n",
      "----------------------------------------------------\n",
      "Epoch 15  | Loss : 0.2830\n",
      "----------------------------------------------------\n",
      "Epoch 16  | Loss : 0.2876\n",
      "----------------------------------------------------\n",
      "Epoch 17  | Loss : 0.2832\n",
      "----------------------------------------------------\n",
      "Epoch 18  | Loss : 0.2795\n",
      "----------------------------------------------------\n",
      "Epoch 19  | Loss : 0.2758\n",
      "----------------------------------------------------\n",
      "Epoch 20  | Loss : 0.2813\n",
      "----------------------------------------------------\n",
      "Finished Training\n"
     ]
    }
   ],
   "source": [
    "#MLP on 30% of the Training Dataset\n",
    "num_epochs = 20\n",
    "total_step = len(train_loader3)\n",
    "Loss_f3 = []\n",
    "print('----------------------------------------------------')\n",
    "for epoch in range(num_epochs):  # loop over the dataset multiple times\n",
    "\n",
    "    running_loss = 0.0\n",
    "    for i, data in enumerate(train_loader3, 0):\n",
    "        # get the inputs\n",
    "        inputs, labels = data\n",
    "\n",
    "        # zero the parameter gradients\n",
    "        optimizer.zero_grad()\n",
    "\n",
    "        # forward + backward + optimize\n",
    "        outputs = MLP_network(inputs)\n",
    "        loss = criterion(outputs, labels)\n",
    "        loss.backward()\n",
    "        optimizer.step()\n",
    "\n",
    "        # print statistics\n",
    "        running_loss += loss.item()\n",
    "        \n",
    "    print('Epoch {}  | Loss : {:.4f}'.format(epoch+1, running_loss / total_step))        \n",
    "    print('----------------------------------------------------')\n",
    "    Loss_f3.append(running_loss / total_step)\n",
    "print('Finished Training')"
   ]
  },
  {
   "cell_type": "code",
   "execution_count": 17,
   "metadata": {},
   "outputs": [
    {
     "name": "stdout",
     "output_type": "stream",
     "text": [
      "Accuracy of the network on the 42000 test images: 86 %\n"
     ]
    }
   ],
   "source": [
    "#Accuracy of 70% of the Validation Test Dataset\n",
    "correct = 0\n",
    "total = 0\n",
    "with torch.no_grad():\n",
    "    for data in validation_loader3:\n",
    "        images, labels = data\n",
    "        outputs = MLP_network(images)\n",
    "        _, predicted = torch.max(outputs.data, 1)\n",
    "        total += labels.size(0)\n",
    "        correct += (predicted == labels).sum().item()\n",
    "\n",
    "print('Accuracy of the network on the 42000 test images: %d %%' % (100 * correct / total))"
   ]
  },
  {
   "cell_type": "code",
   "execution_count": 18,
   "metadata": {},
   "outputs": [
    {
     "name": "stdout",
     "output_type": "stream",
     "text": [
      "Accuracy of class T-Shirt : 82 %\n",
      "Accuracy of class Trouser : 96 %\n",
      "Accuracy of class Pullover : 74 %\n",
      "Accuracy of class Dress : 89 %\n",
      "Accuracy of class  Coat : 81 %\n",
      "Accuracy of class Sandal : 95 %\n",
      "Accuracy of class Shirt : 69 %\n",
      "Accuracy of class Sneaker : 95 %\n",
      "Accuracy of class   Bag : 97 %\n",
      "Accuracy of class Ankle Boot : 86 %\n"
     ]
    }
   ],
   "source": [
    "class_correct = list(0. for i in range(10))\n",
    "class_total = list(0. for i in range(10))\n",
    "with torch.no_grad():\n",
    "    for data in validation_loader3:\n",
    "        images, labels = data\n",
    "        outputs = MLP_network(images)\n",
    "        _, predicted = torch.max(outputs, 1)\n",
    "        c = (predicted == labels).squeeze()\n",
    "        for i in range(10):\n",
    "            label = labels[i]\n",
    "            class_correct[label] += c[i].item()\n",
    "            class_total[label] += 1\n",
    "\n",
    "\n",
    "for i in range(10):\n",
    "    print('Accuracy of class %5s : %2d %%' % (\n",
    "        labels_map[i], 100 * class_correct[i] / class_total[i]))"
   ]
  },
  {
   "cell_type": "code",
   "execution_count": 19,
   "metadata": {
    "collapsed": true
   },
   "outputs": [],
   "source": [
    "num_train = len(fashion_trainset)\n",
    "indices = list(range(num_train))\n",
    "#Splitting the Dataset into 40% Training set and 60% Validation Set\n",
    "split = 36000\n",
    "\n",
    "# Random, non-contiguous split\n",
    "validation_idx = np.random.choice(indices, size=split, replace=False)\n",
    "train_idx = list(set(indices) - set(validation_idx))\n",
    "\n",
    "# Contiguous split\n",
    "# train_idx, validation_idx = indices[split:], indices[:split]\n",
    "\n",
    "## define our samplers -- we use a SubsetRandomSampler because it will return\n",
    "## a random subset of the split defined by the given indices without replaf\n",
    "train_sampler = SubsetRandomSampler(train_idx)\n",
    "validation_sampler = SubsetRandomSampler(validation_idx)\n",
    "\n",
    "train_loader4 = torch.utils.data.DataLoader(fashion_trainset, batch_size=10, sampler=train_sampler)\n",
    "\n",
    "validation_loader4 = torch.utils.data.DataLoader(fashion_trainset, batch_size=10, sampler=validation_sampler)"
   ]
  },
  {
   "cell_type": "code",
   "execution_count": 20,
   "metadata": {},
   "outputs": [
    {
     "name": "stdout",
     "output_type": "stream",
     "text": [
      "----------------------------------------------------\n",
      "Epoch 1  | Loss : 0.3643\n",
      "----------------------------------------------------\n",
      "Epoch 2  | Loss : 0.3464\n",
      "----------------------------------------------------\n",
      "Epoch 3  | Loss : 0.3293\n",
      "----------------------------------------------------\n",
      "Epoch 4  | Loss : 0.3243\n",
      "----------------------------------------------------\n",
      "Epoch 5  | Loss : 0.3178\n",
      "----------------------------------------------------\n",
      "Epoch 6  | Loss : 0.3176\n",
      "----------------------------------------------------\n",
      "Epoch 7  | Loss : 0.3144\n",
      "----------------------------------------------------\n",
      "Epoch 8  | Loss : 0.3100\n",
      "----------------------------------------------------\n",
      "Epoch 9  | Loss : 0.3111\n",
      "----------------------------------------------------\n",
      "Epoch 10  | Loss : 0.3065\n",
      "----------------------------------------------------\n",
      "Epoch 11  | Loss : 0.3041\n",
      "----------------------------------------------------\n",
      "Epoch 12  | Loss : 0.3067\n",
      "----------------------------------------------------\n",
      "Epoch 13  | Loss : 0.3025\n",
      "----------------------------------------------------\n",
      "Epoch 14  | Loss : 0.3020\n",
      "----------------------------------------------------\n",
      "Epoch 15  | Loss : 0.3003\n",
      "----------------------------------------------------\n",
      "Epoch 16  | Loss : 0.2981\n",
      "----------------------------------------------------\n",
      "Epoch 17  | Loss : 0.3011\n",
      "----------------------------------------------------\n",
      "Epoch 18  | Loss : 0.2998\n",
      "----------------------------------------------------\n",
      "Epoch 19  | Loss : 0.2966\n",
      "----------------------------------------------------\n",
      "Epoch 20  | Loss : 0.2974\n",
      "----------------------------------------------------\n",
      "Finished Training\n"
     ]
    }
   ],
   "source": [
    "#MLP on 40% of the Training Dataset\n",
    "num_epochs = 20\n",
    "total_step = len(train_loader4)\n",
    "Loss_f4 = []\n",
    "print('----------------------------------------------------')\n",
    "for epoch in range(num_epochs):  # loop over the dataset multiple times\n",
    "\n",
    "    running_loss = 0.0\n",
    "    for i, data in enumerate(train_loader4, 0):\n",
    "        # get the inputs\n",
    "        inputs, labels = data\n",
    "\n",
    "        # zero the parameter gradients\n",
    "        optimizer.zero_grad()\n",
    "\n",
    "        # forward + backward + optimize\n",
    "        outputs = MLP_network(inputs)\n",
    "        loss = criterion(outputs, labels)\n",
    "        loss.backward()\n",
    "        optimizer.step()\n",
    "\n",
    "        # print statistics\n",
    "        running_loss += loss.item()\n",
    "        \n",
    "    print('Epoch {}  | Loss : {:.4f}'.format(epoch+1, running_loss / total_step))        \n",
    "    print('----------------------------------------------------')\n",
    "    Loss_f4.append(running_loss / total_step)\n",
    "print('Finished Training')"
   ]
  },
  {
   "cell_type": "code",
   "execution_count": 21,
   "metadata": {},
   "outputs": [
    {
     "name": "stdout",
     "output_type": "stream",
     "text": [
      "Accuracy of the network on the 36000 test images: 86 %\n"
     ]
    }
   ],
   "source": [
    "#Accuracy of 60% of the Validation Test Dataset\n",
    "correct = 0\n",
    "total = 0\n",
    "with torch.no_grad():\n",
    "    for data in validation_loader4:\n",
    "        images, labels = data\n",
    "        outputs = MLP_network(images)\n",
    "        _, predicted = torch.max(outputs.data, 1)\n",
    "        total += labels.size(0)\n",
    "        correct += (predicted == labels).sum().item()\n",
    "\n",
    "print('Accuracy of the network on the 36000 test images: %d %%' % (100 * correct / total))"
   ]
  },
  {
   "cell_type": "code",
   "execution_count": 22,
   "metadata": {},
   "outputs": [
    {
     "name": "stdout",
     "output_type": "stream",
     "text": [
      "Accuracy of class T-Shirt : 88 %\n",
      "Accuracy of class Trouser : 97 %\n",
      "Accuracy of class Pullover : 75 %\n",
      "Accuracy of class Dress : 82 %\n",
      "Accuracy of class  Coat : 87 %\n",
      "Accuracy of class Sandal : 91 %\n",
      "Accuracy of class Shirt : 63 %\n",
      "Accuracy of class Sneaker : 97 %\n",
      "Accuracy of class   Bag : 95 %\n",
      "Accuracy of class Ankle Boot : 89 %\n"
     ]
    }
   ],
   "source": [
    "class_correct = list(0. for i in range(10))\n",
    "class_total = list(0. for i in range(10))\n",
    "with torch.no_grad():\n",
    "    for data in validation_loader4:\n",
    "        images, labels = data\n",
    "        outputs = MLP_network(images)\n",
    "        _, predicted = torch.max(outputs, 1)\n",
    "        c = (predicted == labels).squeeze()\n",
    "        for i in range(10):\n",
    "            label = labels[i]\n",
    "            class_correct[label] += c[i].item()\n",
    "            class_total[label] += 1\n",
    "\n",
    "\n",
    "for i in range(10):\n",
    "    print('Accuracy of class %5s : %2d %%' % (\n",
    "        labels_map[i], 100 * class_correct[i] / class_total[i]))"
   ]
  },
  {
   "cell_type": "code",
   "execution_count": 23,
   "metadata": {
    "collapsed": true
   },
   "outputs": [],
   "source": [
    "num_train = len(fashion_trainset)\n",
    "indices = list(range(num_train))\n",
    "#Splitting the Dataset into 50% Training set and 50% Validation Set\n",
    "split = 30000\n",
    "\n",
    "# Random, non-contiguous split\n",
    "validation_idx = np.random.choice(indices, size=split, replace=False)\n",
    "train_idx = list(set(indices) - set(validation_idx))\n",
    "\n",
    "# Contiguous split\n",
    "# train_idx, validation_idx = indices[split:], indices[:split]\n",
    "\n",
    "## define our samplers -- we use a SubsetRandomSampler because it will return\n",
    "## a random subset of the split defined by the given indices without replaf\n",
    "train_sampler = SubsetRandomSampler(train_idx)\n",
    "validation_sampler = SubsetRandomSampler(validation_idx)\n",
    "\n",
    "train_loader5 = torch.utils.data.DataLoader(fashion_trainset, batch_size=10, sampler=train_sampler)\n",
    "\n",
    "validation_loader5 = torch.utils.data.DataLoader(fashion_trainset, batch_size=10, sampler=validation_sampler)"
   ]
  },
  {
   "cell_type": "code",
   "execution_count": 24,
   "metadata": {},
   "outputs": [
    {
     "name": "stdout",
     "output_type": "stream",
     "text": [
      "----------------------------------------------------\n",
      "Epoch 1  | Loss : 0.3556\n",
      "----------------------------------------------------\n",
      "Epoch 2  | Loss : 0.3405\n",
      "----------------------------------------------------\n",
      "Epoch 3  | Loss : 0.3380\n",
      "----------------------------------------------------\n",
      "Epoch 4  | Loss : 0.3308\n",
      "----------------------------------------------------\n",
      "Epoch 5  | Loss : 0.3258\n",
      "----------------------------------------------------\n",
      "Epoch 6  | Loss : 0.3225\n",
      "----------------------------------------------------\n",
      "Epoch 7  | Loss : 0.3279\n",
      "----------------------------------------------------\n",
      "Epoch 8  | Loss : 0.3199\n",
      "----------------------------------------------------\n",
      "Epoch 9  | Loss : 0.3188\n",
      "----------------------------------------------------\n",
      "Epoch 10  | Loss : 0.3210\n",
      "----------------------------------------------------\n",
      "Epoch 11  | Loss : 0.3158\n",
      "----------------------------------------------------\n",
      "Epoch 12  | Loss : 0.3213\n",
      "----------------------------------------------------\n",
      "Epoch 13  | Loss : 0.3159\n",
      "----------------------------------------------------\n",
      "Epoch 14  | Loss : 0.3180\n",
      "----------------------------------------------------\n",
      "Epoch 15  | Loss : 0.3184\n",
      "----------------------------------------------------\n",
      "Epoch 16  | Loss : 0.3169\n",
      "----------------------------------------------------\n",
      "Epoch 17  | Loss : 0.3169\n",
      "----------------------------------------------------\n",
      "Epoch 18  | Loss : 0.3158\n",
      "----------------------------------------------------\n",
      "Epoch 19  | Loss : 0.3146\n",
      "----------------------------------------------------\n",
      "Epoch 20  | Loss : 0.3143\n",
      "----------------------------------------------------\n",
      "Finished Training\n"
     ]
    }
   ],
   "source": [
    "#MLP on 50% of the Training Dataset\n",
    "num_epochs = 20\n",
    "total_step = len(train_loader5)\n",
    "Loss_f5 = []\n",
    "print('----------------------------------------------------')\n",
    "for epoch in range(num_epochs):  # loop over the dataset multiple times\n",
    "\n",
    "    running_loss = 0.0\n",
    "    for i, data in enumerate(train_loader5, 0):\n",
    "        # get the inputs\n",
    "        inputs, labels = data\n",
    "\n",
    "        # zero the parameter gradients\n",
    "        optimizer.zero_grad()\n",
    "\n",
    "        # forward + backward + optimize\n",
    "        outputs = MLP_network(inputs)\n",
    "        loss = criterion(outputs, labels)\n",
    "        loss.backward()\n",
    "        optimizer.step()\n",
    "\n",
    "        # print statistics\n",
    "        running_loss += loss.item()\n",
    "        \n",
    "    print('Epoch {}  | Loss : {:.4f}'.format(epoch+1, running_loss / total_step))        \n",
    "    print('----------------------------------------------------')\n",
    "    Loss_f5.append(running_loss / total_step)\n",
    "print('Finished Training')"
   ]
  },
  {
   "cell_type": "code",
   "execution_count": 25,
   "metadata": {},
   "outputs": [
    {
     "name": "stdout",
     "output_type": "stream",
     "text": [
      "Accuracy of the network on the 30000 test images: 87 %\n"
     ]
    }
   ],
   "source": [
    "#Accuracy of 50% of the Validation Test Dataset\n",
    "correct = 0\n",
    "total = 0\n",
    "with torch.no_grad():\n",
    "    for data in validation_loader5:\n",
    "        images, labels = data\n",
    "        outputs = MLP_network(images)\n",
    "        _, predicted = torch.max(outputs.data, 1)\n",
    "        total += labels.size(0)\n",
    "        correct += (predicted == labels).sum().item()\n",
    "\n",
    "print('Accuracy of the network on the 30000 test images: %d %%' % (100 * correct / total))"
   ]
  },
  {
   "cell_type": "code",
   "execution_count": 26,
   "metadata": {},
   "outputs": [
    {
     "name": "stdout",
     "output_type": "stream",
     "text": [
      "Accuracy of class T-Shirt : 81 %\n",
      "Accuracy of class Trouser : 97 %\n",
      "Accuracy of class Pullover : 77 %\n",
      "Accuracy of class Dress : 92 %\n",
      "Accuracy of class  Coat : 80 %\n",
      "Accuracy of class Sandal : 91 %\n",
      "Accuracy of class Shirt : 67 %\n",
      "Accuracy of class Sneaker : 92 %\n",
      "Accuracy of class   Bag : 96 %\n",
      "Accuracy of class Ankle Boot : 96 %\n"
     ]
    }
   ],
   "source": [
    "class_correct = list(0. for i in range(10))\n",
    "class_total = list(0. for i in range(10))\n",
    "with torch.no_grad():\n",
    "    for data in validation_loader5:\n",
    "        images, labels = data\n",
    "        outputs = MLP_network(images)\n",
    "        _, predicted = torch.max(outputs, 1)\n",
    "        c = (predicted == labels).squeeze()\n",
    "        for i in range(10):\n",
    "            label = labels[i]\n",
    "            class_correct[label] += c[i].item()\n",
    "            class_total[label] += 1\n",
    "\n",
    "\n",
    "for i in range(10):\n",
    "    print('Accuracy of class %5s : %2d %%' % (\n",
    "        labels_map[i], 100 * class_correct[i] / class_total[i]))"
   ]
  },
  {
   "cell_type": "code",
   "execution_count": 28,
   "metadata": {},
   "outputs": [
    {
     "data": {
      "image/png": "[encoded data removed]",
      "text/plain": [
       "<matplotlib.figure.Figure at 0x11effc6d8>"
      ]
     },
     "metadata": {},
     "output_type": "display_data"
    }
   ],
   "source": [
    "plt.plot(Loss_f1, 'r--', label = \"10% Training Data\")\n",
    "plt.plot(Loss_f2, 'b--', label = \"20% Training Data\")\n",
    "plt.plot(Loss_f3, 'y--', label = \"30% Training Data\")\n",
    "plt.plot(Loss_f4, 'g--', label = \"40% Training Data\")\n",
    "plt.plot(Loss_f5, 'k--', label = \"50% Training Data\")\n",
    "plt.title(\"Loss vs Epoch for Fashion MNIST Dataset (using MLP)\")\n",
    "plt.xlim([0, num_epochs])\n",
    "plt.xlabel(\"Epoch\")\n",
    "plt.ylabel(\"Loss\")\n",
    "plt.legend(bbox_to_anchor=(1.05, 1), loc=2, borderaxespad=0.)\n",
    "plt.show()"
   ]
  },
  {
   "cell_type": "code",
   "execution_count": null,
   "metadata": {
    "collapsed": true
   },
   "outputs": [],
   "source": []
  }
 ],
 "metadata": {
  "kernelspec": {
   "display_name": "Python 3",
   "language": "python",
   "name": "python3"
  },
  "language_info": {
   "codemirror_mode": {
    "name": "ipython",
    "version": 3
   },
   "file_extension": ".py",
   "mimetype": "text/x-python",
   "name": "python",
   "nbconvert_exporter": "python",
   "pygments_lexer": "ipython3",
   "version": "3.6.3"
  }
 },
 "nbformat": 4,
 "nbformat_minor": 2
}
