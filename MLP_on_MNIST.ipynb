{
 "cells": [
  {
   "cell_type": "code",
   "execution_count": 1,
   "metadata": {
    "collapsed": true
   },
   "outputs": [],
   "source": [
    "import torch\n",
    "import torchvision\n",
    "import torchvision.datasets as datasets\n",
    "import torchvision.transforms as transforms\n",
    "import torch.nn as nn\n",
    "import torch.nn.functional as F\n",
    "import torch.optim as optim\n",
    "import matplotlib \n",
    "import matplotlib.pyplot as plt\n",
    "import numpy as np\n",
    "import pandas as pd\n",
    "import random\n",
    "import math\n",
    "from torch.utils.data.sampler import SubsetRandomSampler"
   ]
  },
  {
   "cell_type": "code",
   "execution_count": 2,
   "metadata": {
    "collapsed": true
   },
   "outputs": [],
   "source": [
    "#Multi-Layer Perceptron Model\n",
    "class MLP(nn.Module):\n",
    "    def __init__(self):\n",
    "        super(MLP, self).__init__()\n",
    "        self.fc1 = nn.Linear(28*28, 500)\n",
    "        self.fc2 = nn.Linear(500, 256)\n",
    "        self.fc3 = nn.Linear(256, 10)\n",
    "        \n",
    "\n",
    "    def forward(self, x):\n",
    "        x = x.view(-1, 28*28)\n",
    "        x = F.relu(self.fc1(x))\n",
    "        x = F.relu(self.fc2(x))\n",
    "        x = self.fc3(x)\n",
    "        return x\n",
    "\n",
    "\n",
    "MLP_network = MLP()"
   ]
  },
  {
   "cell_type": "code",
   "execution_count": 3,
   "metadata": {
    "collapsed": true
   },
   "outputs": [],
   "source": [
    "criterion = nn.CrossEntropyLoss() \n",
    "optimizer = optim.Adam(MLP_network.parameters(), lr=0.001, betas=(0.9,0.99), eps=1e-08, weight_decay=0.001) "
   ]
  },
  {
   "cell_type": "code",
   "execution_count": 4,
   "metadata": {
    "collapsed": true
   },
   "outputs": [],
   "source": [
    "# transforms to apply to the mnist data\n",
    "transform = transforms.Compose([transforms.ToTensor(), transforms.Normalize((0.1307,), (0.3081,))])\n",
    "\n",
    "# MNIST dataset\n",
    "mnist_trainset = datasets.MNIST(root='./data', train=True, download=True, transform=transform)\n"
   ]
  },
  {
   "cell_type": "code",
   "execution_count": 5,
   "metadata": {
    "collapsed": true
   },
   "outputs": [],
   "source": [
    "num_train = len(mnist_trainset)\n",
    "indices = list(range(num_train))\n",
    "#Splitting the Dataset into 10% Training set and 90% Validation Set\n",
    "split = 54000\n",
    "\n",
    "# Random, non-contiguous split\n",
    "validation_idx = np.random.choice(indices, size=split, replace=False)\n",
    "train_idx = list(set(indices) - set(validation_idx))\n",
    "\n",
    "# Contiguous split\n",
    "# train_idx, validation_idx = indices[split:], indices[:split]\n",
    "\n",
    "## define our samplers -- we use a SubsetRandomSampler because it will return\n",
    "## a random subset of the split defined by the given indices without replaf\n",
    "train_sampler = SubsetRandomSampler(train_idx)\n",
    "validation_sampler = SubsetRandomSampler(validation_idx)\n",
    "\n",
    "train_load1 = torch.utils.data.DataLoader(mnist_trainset, batch_size=10, sampler=train_sampler)\n",
    "\n",
    "validation_load1 = torch.utils.data.DataLoader(mnist_trainset, batch_size=10, sampler=validation_sampler)\n"
   ]
  },
  {
   "cell_type": "code",
   "execution_count": 6,
   "metadata": {},
   "outputs": [
    {
     "data": {
      "image/png": "[encoded data removed]",
      "text/plain": [
       "<matplotlib.figure.Figure at 0x114b9c4e0>"
      ]
     },
     "metadata": {},
     "output_type": "display_data"
    }
   ],
   "source": [
    "fig = plt.figure(figsize=(10,10));\n",
    "columns = 4;\n",
    "rows = 5;\n",
    "for i in range(1, 10):\n",
    "    fig.add_subplot(rows, columns, i)\n",
    "    fig.tight_layout()\n",
    "    plt.imshow(mnist_trainset.train_data[i].numpy(), cmap='gray')\n",
    "    plt.title('Label : %i' % mnist_trainset.train_labels[i])\n",
    "plt.show()"
   ]
  },
  {
   "cell_type": "code",
   "execution_count": 7,
   "metadata": {},
   "outputs": [
    {
     "name": "stdout",
     "output_type": "stream",
     "text": [
      "----------------------------------------------------\n",
      "Epoch 1  | Loss : 0.4912\n",
      "----------------------------------------------------\n",
      "Epoch 2  | Loss : 0.2409\n",
      "----------------------------------------------------\n",
      "Epoch 3  | Loss : 0.1674\n",
      "----------------------------------------------------\n",
      "Epoch 4  | Loss : 0.1427\n",
      "----------------------------------------------------\n",
      "Epoch 5  | Loss : 0.1136\n",
      "----------------------------------------------------\n",
      "Epoch 6  | Loss : 0.1010\n",
      "----------------------------------------------------\n",
      "Epoch 7  | Loss : 0.0781\n",
      "----------------------------------------------------\n",
      "Epoch 8  | Loss : 0.0806\n",
      "----------------------------------------------------\n",
      "Epoch 9  | Loss : 0.0772\n",
      "----------------------------------------------------\n",
      "Epoch 10  | Loss : 0.0767\n",
      "----------------------------------------------------\n",
      "Epoch 11  | Loss : 0.0558\n",
      "----------------------------------------------------\n",
      "Epoch 12  | Loss : 0.0675\n",
      "----------------------------------------------------\n",
      "Epoch 13  | Loss : 0.0576\n",
      "----------------------------------------------------\n",
      "Epoch 14  | Loss : 0.0488\n",
      "----------------------------------------------------\n",
      "Epoch 15  | Loss : 0.0566\n",
      "----------------------------------------------------\n",
      "Epoch 16  | Loss : 0.0464\n",
      "----------------------------------------------------\n",
      "Epoch 17  | Loss : 0.0541\n",
      "----------------------------------------------------\n",
      "Epoch 18  | Loss : 0.0429\n",
      "----------------------------------------------------\n",
      "Epoch 19  | Loss : 0.0434\n",
      "----------------------------------------------------\n",
      "Epoch 20  | Loss : 0.0473\n",
      "----------------------------------------------------\n",
      "Finished Training\n"
     ]
    }
   ],
   "source": [
    "#MLP on 10% of the Training Dataset\n",
    "num_epochs = 20\n",
    "total_step = len(train_load1)\n",
    "Loss_1 = []\n",
    "print('----------------------------------------------------')\n",
    "for epoch in range(num_epochs):  # loop over the dataset multiple times\n",
    "\n",
    "    running_loss = 0.0\n",
    "    for i, data in enumerate(train_load1, 0):\n",
    "        # get the inputs\n",
    "        inputs, labels = data\n",
    "\n",
    "        # zero the parameter gradients\n",
    "        optimizer.zero_grad()\n",
    "\n",
    "        # forward + backward + optimize\n",
    "        outputs = MLP_network(inputs)\n",
    "        loss = criterion(outputs, labels)\n",
    "        loss.backward()\n",
    "        optimizer.step()\n",
    "\n",
    "        # print statistics\n",
    "        running_loss += loss.item()\n",
    "        \n",
    "    print('Epoch {}  | Loss : {:.4f}'.format(epoch+1, running_loss / total_step))        \n",
    "    print('----------------------------------------------------')\n",
    "    Loss_1.append(running_loss / total_step)\n",
    "print('Finished Training')"
   ]
  },
  {
   "cell_type": "code",
   "execution_count": 8,
   "metadata": {},
   "outputs": [
    {
     "name": "stdout",
     "output_type": "stream",
     "text": [
      "Accuracy of the network on the 54000 Test images: 94 %\n"
     ]
    }
   ],
   "source": [
    "#Accuracy of 90% of the Validation Test Dataset\n",
    "correct = 0\n",
    "total = 0\n",
    "with torch.no_grad():\n",
    "    for data in validation_load1:\n",
    "        images, labels = data\n",
    "        outputs = MLP_network(images)\n",
    "        _, predicted = torch.max(outputs.data, 1)\n",
    "        total += labels.size(0)\n",
    "        correct += (predicted == labels).sum().item()\n",
    "\n",
    "print('Accuracy of the network on the 54000 Test images: %d %%' % (100 * correct / total))"
   ]
  },
  {
   "cell_type": "code",
   "execution_count": 9,
   "metadata": {},
   "outputs": [
    {
     "name": "stdout",
     "output_type": "stream",
     "text": [
      "Accuracy of class 0 : 97 %\n",
      "Accuracy of class 1 : 98 %\n",
      "Accuracy of class 2 : 93 %\n",
      "Accuracy of class 3 : 90 %\n",
      "Accuracy of class 4 : 96 %\n",
      "Accuracy of class 5 : 96 %\n",
      "Accuracy of class 6 : 96 %\n",
      "Accuracy of class 7 : 97 %\n",
      "Accuracy of class 8 : 82 %\n",
      "Accuracy of class 9 : 89 %\n"
     ]
    }
   ],
   "source": [
    "classes = (0, 1, 2, 3, 4, 5, 6, 7, 8, 9)\n",
    "class_correct = list(0. for i in range(10))\n",
    "class_total = list(0. for i in range(10))\n",
    "with torch.no_grad():\n",
    "    for data in validation_load1:\n",
    "        images, labels = data\n",
    "        outputs = MLP_network(images)\n",
    "        _, predicted = torch.max(outputs, 1)\n",
    "        c = (predicted == labels).squeeze()\n",
    "        for i in range(10):\n",
    "            label = labels[i]\n",
    "            class_correct[label] += c[i].item()\n",
    "            class_total[label] += 1\n",
    "\n",
    "\n",
    "for i in range(10):\n",
    "    print('Accuracy of class %s : %2d %%' % (\n",
    "        classes[i], 100 * class_correct[i] / class_total[i]))"
   ]
  },
  {
   "cell_type": "code",
   "execution_count": 10,
   "metadata": {
    "collapsed": true
   },
   "outputs": [],
   "source": [
    "num_train = len(mnist_trainset)\n",
    "indices = list(range(num_train))\n",
    "#Splitting the Dataset into 20% Training set and 80% Validation Set\n",
    "split = 48000\n",
    "\n",
    "# Random, non-contiguous split\n",
    "validation_idx = np.random.choice(indices, size=split, replace=False)\n",
    "train_idx = list(set(indices) - set(validation_idx))\n",
    "\n",
    "# Contiguous split\n",
    "# train_idx, validation_idx = indices[split:], indices[:split]\n",
    "\n",
    "## define our samplers -- we use a SubsetRandomSampler because it will return\n",
    "## a random subset of the split defined by the given indices without replaf\n",
    "train_sampler = SubsetRandomSampler(train_idx)\n",
    "validation_sampler = SubsetRandomSampler(validation_idx)\n",
    "\n",
    "train_load2 = torch.utils.data.DataLoader(mnist_trainset, batch_size=10, sampler=train_sampler)\n",
    "\n",
    "validation_load2 = torch.utils.data.DataLoader(mnist_trainset, batch_size=10, sampler=validation_sampler)\n",
    "\n"
   ]
  },
  {
   "cell_type": "code",
   "execution_count": 11,
   "metadata": {},
   "outputs": [
    {
     "name": "stdout",
     "output_type": "stream",
     "text": [
      "----------------------------------------------------\n",
      "Epoch 1  | Loss : 0.1772\n",
      "----------------------------------------------------\n",
      "Epoch 2  | Loss : 0.1238\n",
      "----------------------------------------------------\n",
      "Epoch 3  | Loss : 0.1011\n",
      "----------------------------------------------------\n",
      "Epoch 4  | Loss : 0.0947\n",
      "----------------------------------------------------\n",
      "Epoch 5  | Loss : 0.0763\n",
      "----------------------------------------------------\n",
      "Epoch 6  | Loss : 0.0722\n",
      "----------------------------------------------------\n",
      "Epoch 7  | Loss : 0.0665\n",
      "----------------------------------------------------\n",
      "Epoch 8  | Loss : 0.0679\n",
      "----------------------------------------------------\n",
      "Epoch 9  | Loss : 0.0645\n",
      "----------------------------------------------------\n",
      "Epoch 10  | Loss : 0.0619\n",
      "----------------------------------------------------\n",
      "Epoch 11  | Loss : 0.0605\n",
      "----------------------------------------------------\n",
      "Epoch 12  | Loss : 0.0604\n",
      "----------------------------------------------------\n",
      "Epoch 13  | Loss : 0.0584\n",
      "----------------------------------------------------\n",
      "Epoch 14  | Loss : 0.0606\n",
      "----------------------------------------------------\n",
      "Epoch 15  | Loss : 0.0582\n",
      "----------------------------------------------------\n",
      "Epoch 16  | Loss : 0.0585\n",
      "----------------------------------------------------\n",
      "Epoch 17  | Loss : 0.0558\n",
      "----------------------------------------------------\n",
      "Epoch 18  | Loss : 0.0530\n",
      "----------------------------------------------------\n",
      "Epoch 19  | Loss : 0.0556\n",
      "----------------------------------------------------\n",
      "Epoch 20  | Loss : 0.0474\n",
      "----------------------------------------------------\n",
      "Finished Training\n"
     ]
    }
   ],
   "source": [
    "#MLP on 20% of the Training Dataset\n",
    "num_epochs = 20\n",
    "total_step = len(train_load2)\n",
    "Loss_2 = []\n",
    "print('----------------------------------------------------')\n",
    "for epoch in range(num_epochs):  # loop over the dataset multiple times\n",
    "\n",
    "    running_loss = 0.0\n",
    "    for i, data in enumerate(train_load2, 0):\n",
    "        # get the inputs\n",
    "        inputs, labels = data\n",
    "\n",
    "        # zero the parameter gradients\n",
    "        optimizer.zero_grad()\n",
    "\n",
    "        # forward + backward + optimize\n",
    "        outputs = MLP_network(inputs)\n",
    "        loss = criterion(outputs, labels)\n",
    "        loss.backward()\n",
    "        optimizer.step()\n",
    "\n",
    "        # print statistics\n",
    "        running_loss += loss.item()\n",
    "        \n",
    "    print('Epoch {}  | Loss : {:.4f}'.format(epoch+1, running_loss / total_step))        \n",
    "    print('----------------------------------------------------')\n",
    "    Loss_2.append(running_loss / total_step)\n",
    "print('Finished Training')"
   ]
  },
  {
   "cell_type": "code",
   "execution_count": 12,
   "metadata": {},
   "outputs": [
    {
     "name": "stdout",
     "output_type": "stream",
     "text": [
      "Accuracy of the network on the 48000 Test images: 95 %\n"
     ]
    }
   ],
   "source": [
    "#Accuracy of 80% of the Validation Test Dataset\n",
    "correct = 0\n",
    "total = 0\n",
    "with torch.no_grad():\n",
    "    for data in validation_load2:\n",
    "        images, labels = data\n",
    "        outputs = MLP_network(images)\n",
    "        _, predicted = torch.max(outputs.data, 1)\n",
    "        total += labels.size(0)\n",
    "        correct += (predicted == labels).sum().item()\n",
    "\n",
    "print('Accuracy of the network on the 48000 Test images: %d %%' % (100 * correct / total))"
   ]
  },
  {
   "cell_type": "code",
   "execution_count": 13,
   "metadata": {},
   "outputs": [
    {
     "name": "stdout",
     "output_type": "stream",
     "text": [
      "Accuracy of class 0 : 97 %\n",
      "Accuracy of class 1 : 97 %\n",
      "Accuracy of class 2 : 95 %\n",
      "Accuracy of class 3 : 95 %\n",
      "Accuracy of class 4 : 97 %\n",
      "Accuracy of class 5 : 92 %\n",
      "Accuracy of class 6 : 97 %\n",
      "Accuracy of class 7 : 95 %\n",
      "Accuracy of class 8 : 96 %\n",
      "Accuracy of class 9 : 90 %\n"
     ]
    }
   ],
   "source": [
    "classes = (0, 1, 2, 3, 4, 5, 6, 7, 8, 9)\n",
    "class_correct = list(0. for i in range(10))\n",
    "class_total = list(0. for i in range(10))\n",
    "with torch.no_grad():\n",
    "    for data in validation_load2:\n",
    "        images, labels = data\n",
    "        outputs = MLP_network(images)\n",
    "        _, predicted = torch.max(outputs, 1)\n",
    "        c = (predicted == labels).squeeze()\n",
    "        for i in range(10):\n",
    "            label = labels[i]\n",
    "            class_correct[label] += c[i].item()\n",
    "            class_total[label] += 1\n",
    "\n",
    "\n",
    "for i in range(10):\n",
    "    print('Accuracy of class %s : %2d %%' % (\n",
    "        classes[i], 100 * class_correct[i] / class_total[i]))"
   ]
  },
  {
   "cell_type": "code",
   "execution_count": 14,
   "metadata": {
    "collapsed": true
   },
   "outputs": [],
   "source": [
    "num_train = len(mnist_trainset)\n",
    "indices = list(range(num_train))\n",
    "#Splitting the Dataset into 30% Training set and 70% Validation Set\n",
    "split = 42000\n",
    "\n",
    "# Random, non-contiguous split\n",
    "validation_idx = np.random.choice(indices, size=split, replace=False)\n",
    "train_idx = list(set(indices) - set(validation_idx))\n",
    "\n",
    "# Contiguous split\n",
    "# train_idx, validation_idx = indices[split:], indices[:split]\n",
    "\n",
    "## define our samplers -- we use a SubsetRandomSampler because it will return\n",
    "## a random subset of the split defined by the given indices without replaf\n",
    "train_sampler = SubsetRandomSampler(train_idx)\n",
    "validation_sampler = SubsetRandomSampler(validation_idx)\n",
    "\n",
    "train_load3 = torch.utils.data.DataLoader(mnist_trainset, batch_size=10, sampler=train_sampler)\n",
    "\n",
    "validation_load3 = torch.utils.data.DataLoader(mnist_trainset, batch_size=10, sampler=validation_sampler)\n"
   ]
  },
  {
   "cell_type": "code",
   "execution_count": 15,
   "metadata": {},
   "outputs": [
    {
     "name": "stdout",
     "output_type": "stream",
     "text": [
      "----------------------------------------------------\n",
      "Epoch 1  | Loss : 0.1398\n",
      "----------------------------------------------------\n",
      "Epoch 2  | Loss : 0.1025\n",
      "----------------------------------------------------\n",
      "Epoch 3  | Loss : 0.0922\n",
      "----------------------------------------------------\n",
      "Epoch 4  | Loss : 0.0823\n",
      "----------------------------------------------------\n",
      "Epoch 5  | Loss : 0.0807\n",
      "----------------------------------------------------\n",
      "Epoch 6  | Loss : 0.0761\n",
      "----------------------------------------------------\n",
      "Epoch 7  | Loss : 0.0737\n",
      "----------------------------------------------------\n",
      "Epoch 8  | Loss : 0.0716\n",
      "----------------------------------------------------\n",
      "Epoch 9  | Loss : 0.0693\n",
      "----------------------------------------------------\n",
      "Epoch 10  | Loss : 0.0671\n",
      "----------------------------------------------------\n",
      "Epoch 11  | Loss : 0.0681\n",
      "----------------------------------------------------\n",
      "Epoch 12  | Loss : 0.0680\n",
      "----------------------------------------------------\n",
      "Epoch 13  | Loss : 0.0672\n",
      "----------------------------------------------------\n",
      "Epoch 14  | Loss : 0.0641\n",
      "----------------------------------------------------\n",
      "Epoch 15  | Loss : 0.0655\n",
      "----------------------------------------------------\n",
      "Epoch 16  | Loss : 0.0655\n",
      "----------------------------------------------------\n",
      "Epoch 17  | Loss : 0.0591\n",
      "----------------------------------------------------\n",
      "Epoch 18  | Loss : 0.0589\n",
      "----------------------------------------------------\n",
      "Epoch 19  | Loss : 0.0636\n",
      "----------------------------------------------------\n",
      "Epoch 20  | Loss : 0.0650\n",
      "----------------------------------------------------\n",
      "Finished Training\n"
     ]
    }
   ],
   "source": [
    "#MLP on 30% of the Training Dataset\n",
    "num_epochs = 20\n",
    "total_step = len(train_load3)\n",
    "Loss_3 = []\n",
    "print('----------------------------------------------------')\n",
    "for epoch in range(num_epochs):  # loop over the dataset multiple times\n",
    "\n",
    "    running_loss = 0.0\n",
    "    for i, data in enumerate(train_load3, 0):\n",
    "        # get the inputs\n",
    "        inputs, labels = data\n",
    "\n",
    "        # zero the parameter gradients\n",
    "        optimizer.zero_grad()\n",
    "\n",
    "        # forward + backward + optimize\n",
    "        outputs = MLP_network(inputs)\n",
    "        loss = criterion(outputs, labels)\n",
    "        loss.backward()\n",
    "        optimizer.step()\n",
    "\n",
    "        # print statistics\n",
    "        running_loss += loss.item()\n",
    "        \n",
    "    print('Epoch {}  | Loss : {:.4f}'.format(epoch+1, running_loss / total_step))        \n",
    "    print('----------------------------------------------------')\n",
    "    Loss_3.append(running_loss / total_step)\n",
    "print('Finished Training')"
   ]
  },
  {
   "cell_type": "code",
   "execution_count": 16,
   "metadata": {},
   "outputs": [
    {
     "name": "stdout",
     "output_type": "stream",
     "text": [
      "Accuracy of the network on the 42000 Test images: 95 %\n"
     ]
    }
   ],
   "source": [
    "#Accuracy of 70% of the Validation Test Dataset\n",
    "correct = 0\n",
    "total = 0\n",
    "with torch.no_grad():\n",
    "    for data in validation_load3:\n",
    "        images, labels = data\n",
    "        outputs = MLP_network(images)\n",
    "        _, predicted = torch.max(outputs.data, 1)\n",
    "        total += labels.size(0)\n",
    "        correct += (predicted == labels).sum().item()\n",
    "\n",
    "print('Accuracy of the network on the 42000 Test images: %d %%' % (100 * correct / total))"
   ]
  },
  {
   "cell_type": "code",
   "execution_count": 17,
   "metadata": {},
   "outputs": [
    {
     "name": "stdout",
     "output_type": "stream",
     "text": [
      "Accuracy of class 0 : 98 %\n",
      "Accuracy of class 1 : 97 %\n",
      "Accuracy of class 2 : 94 %\n",
      "Accuracy of class 3 : 92 %\n",
      "Accuracy of class 4 : 96 %\n",
      "Accuracy of class 5 : 96 %\n",
      "Accuracy of class 6 : 97 %\n",
      "Accuracy of class 7 : 94 %\n",
      "Accuracy of class 8 : 97 %\n",
      "Accuracy of class 9 : 95 %\n"
     ]
    }
   ],
   "source": [
    "classes = (0, 1, 2, 3, 4, 5, 6, 7, 8, 9)\n",
    "class_correct = list(0. for i in range(10))\n",
    "class_total = list(0. for i in range(10))\n",
    "with torch.no_grad():\n",
    "    for data in validation_load3:\n",
    "        images, labels = data\n",
    "        outputs = MLP_network(images)\n",
    "        _, predicted = torch.max(outputs, 1)\n",
    "        c = (predicted == labels).squeeze()\n",
    "        for i in range(10):\n",
    "            label = labels[i]\n",
    "            class_correct[label] += c[i].item()\n",
    "            class_total[label] += 1\n",
    "\n",
    "\n",
    "for i in range(10):\n",
    "    print('Accuracy of class %s : %2d %%' % (\n",
    "        classes[i], 100 * class_correct[i] / class_total[i]))"
   ]
  },
  {
   "cell_type": "code",
   "execution_count": 18,
   "metadata": {
    "collapsed": true
   },
   "outputs": [],
   "source": [
    "num_train = len(mnist_trainset)\n",
    "indices = list(range(num_train))\n",
    "#Splitting the Dataset into 40% Training set and 60% Validation Set\n",
    "split = 36000\n",
    "\n",
    "# Random, non-contiguous split\n",
    "validation_idx = np.random.choice(indices, size=split, replace=False)\n",
    "train_idx = list(set(indices) - set(validation_idx))\n",
    "\n",
    "# Contiguous split\n",
    "# train_idx, validation_idx = indices[split:], indices[:split]\n",
    "\n",
    "## define our samplers -- we use a SubsetRandomSampler because it will return\n",
    "## a random subset of the split defined by the given indices without replaf\n",
    "train_sampler = SubsetRandomSampler(train_idx)\n",
    "validation_sampler = SubsetRandomSampler(validation_idx)\n",
    "\n",
    "train_load4 = torch.utils.data.DataLoader(mnist_trainset, batch_size=10, sampler=train_sampler)\n",
    "\n",
    "validation_load4 = torch.utils.data.DataLoader(mnist_trainset, batch_size=10, sampler=validation_sampler)\n",
    "\n"
   ]
  },
  {
   "cell_type": "code",
   "execution_count": 19,
   "metadata": {},
   "outputs": [
    {
     "name": "stdout",
     "output_type": "stream",
     "text": [
      "----------------------------------------------------\n",
      "Epoch 1  | Loss : 0.1227\n",
      "----------------------------------------------------\n",
      "Epoch 2  | Loss : 0.0976\n",
      "----------------------------------------------------\n",
      "Epoch 3  | Loss : 0.0879\n",
      "----------------------------------------------------\n",
      "Epoch 4  | Loss : 0.0859\n",
      "----------------------------------------------------\n",
      "Epoch 5  | Loss : 0.0826\n",
      "----------------------------------------------------\n",
      "Epoch 6  | Loss : 0.0802\n",
      "----------------------------------------------------\n",
      "Epoch 7  | Loss : 0.0792\n",
      "----------------------------------------------------\n",
      "Epoch 8  | Loss : 0.0774\n",
      "----------------------------------------------------\n",
      "Epoch 9  | Loss : 0.0745\n",
      "----------------------------------------------------\n",
      "Epoch 10  | Loss : 0.0778\n",
      "----------------------------------------------------\n",
      "Epoch 11  | Loss : 0.0723\n",
      "----------------------------------------------------\n",
      "Epoch 12  | Loss : 0.0722\n",
      "----------------------------------------------------\n",
      "Epoch 13  | Loss : 0.0735\n",
      "----------------------------------------------------\n",
      "Epoch 14  | Loss : 0.0694\n",
      "----------------------------------------------------\n",
      "Epoch 15  | Loss : 0.0730\n",
      "----------------------------------------------------\n",
      "Epoch 16  | Loss : 0.0702\n",
      "----------------------------------------------------\n",
      "Epoch 17  | Loss : 0.0702\n",
      "----------------------------------------------------\n",
      "Epoch 18  | Loss : 0.0708\n",
      "----------------------------------------------------\n",
      "Epoch 19  | Loss : 0.0719\n",
      "----------------------------------------------------\n",
      "Epoch 20  | Loss : 0.0699\n",
      "----------------------------------------------------\n",
      "Finished Training\n"
     ]
    }
   ],
   "source": [
    "#MLP on 40% of the Training Dataset\n",
    "num_epochs = 20\n",
    "total_step = len(train_load4)\n",
    "Loss_4 = []\n",
    "print('----------------------------------------------------')\n",
    "for epoch in range(num_epochs):  # loop over the dataset multiple times\n",
    "\n",
    "    running_loss = 0.0\n",
    "    for i, data in enumerate(train_load4, 0):\n",
    "        # get the inputs\n",
    "        inputs, labels = data\n",
    "\n",
    "        # zero the parameter gradients\n",
    "        optimizer.zero_grad()\n",
    "\n",
    "        # forward + backward + optimize\n",
    "        outputs = MLP_network(inputs)\n",
    "        loss = criterion(outputs, labels)\n",
    "        loss.backward()\n",
    "        optimizer.step()\n",
    "\n",
    "        # print statistics\n",
    "        running_loss += loss.item()\n",
    "        \n",
    "    print('Epoch {}  | Loss : {:.4f}'.format(epoch+1, running_loss / total_step))        \n",
    "    print('----------------------------------------------------')\n",
    "    Loss_4.append(running_loss / total_step)\n",
    "print('Finished Training')"
   ]
  },
  {
   "cell_type": "code",
   "execution_count": 20,
   "metadata": {},
   "outputs": [
    {
     "name": "stdout",
     "output_type": "stream",
     "text": [
      "Accuracy of the network on the 36000 Test images: 96 %\n"
     ]
    }
   ],
   "source": [
    "#Accuracy of 60% of the Validation Test Dataset\n",
    "correct = 0\n",
    "total = 0\n",
    "with torch.no_grad():\n",
    "    for data in validation_load4:\n",
    "        images, labels = data\n",
    "        outputs = MLP_network(images)\n",
    "        _, predicted = torch.max(outputs.data, 1)\n",
    "        total += labels.size(0)\n",
    "        correct += (predicted == labels).sum().item()\n",
    "\n",
    "print('Accuracy of the network on the 36000 Test images: %d %%' % (100 * correct / total))"
   ]
  },
  {
   "cell_type": "code",
   "execution_count": 21,
   "metadata": {},
   "outputs": [
    {
     "name": "stdout",
     "output_type": "stream",
     "text": [
      "Accuracy of class 0 : 95 %\n",
      "Accuracy of class 1 : 97 %\n",
      "Accuracy of class 2 : 98 %\n",
      "Accuracy of class 3 : 93 %\n",
      "Accuracy of class 4 : 97 %\n",
      "Accuracy of class 5 : 93 %\n",
      "Accuracy of class 6 : 99 %\n",
      "Accuracy of class 7 : 96 %\n",
      "Accuracy of class 8 : 95 %\n",
      "Accuracy of class 9 : 93 %\n"
     ]
    }
   ],
   "source": [
    "classes = (0, 1, 2, 3, 4, 5, 6, 7, 8, 9)\n",
    "class_correct = list(0. for i in range(10))\n",
    "class_total = list(0. for i in range(10))\n",
    "with torch.no_grad():\n",
    "    for data in validation_load4:\n",
    "        images, labels = data\n",
    "        outputs = MLP_network(images)\n",
    "        _, predicted = torch.max(outputs, 1)\n",
    "        c = (predicted == labels).squeeze()\n",
    "        for i in range(10):\n",
    "            label = labels[i]\n",
    "            class_correct[label] += c[i].item()\n",
    "            class_total[label] += 1\n",
    "\n",
    "\n",
    "for i in range(10):\n",
    "    print('Accuracy of class %s : %2d %%' % (\n",
    "        classes[i], 100 * class_correct[i] / class_total[i]))"
   ]
  },
  {
   "cell_type": "code",
   "execution_count": 22,
   "metadata": {
    "collapsed": true
   },
   "outputs": [],
   "source": [
    "num_train = len(mnist_trainset)\n",
    "indices = list(range(num_train))\n",
    "#Splitting the Dataset into 50% Training set and 50% Validation Set\n",
    "split = 30000\n",
    "\n",
    "# Random, non-contiguous split\n",
    "validation_idx = np.random.choice(indices, size=split, replace=False)\n",
    "train_idx = list(set(indices) - set(validation_idx))\n",
    "\n",
    "# Contiguous split\n",
    "# train_idx, validation_idx = indices[split:], indices[:split]\n",
    "\n",
    "## define our samplers -- we use a SubsetRandomSampler because it will return\n",
    "## a random subset of the split defined by the given indices without replaf\n",
    "train_sampler = SubsetRandomSampler(train_idx)\n",
    "validation_sampler = SubsetRandomSampler(validation_idx)\n",
    "\n",
    "train_load5 = torch.utils.data.DataLoader(mnist_trainset, batch_size=10, sampler=train_sampler)\n",
    "\n",
    "validation_load5 = torch.utils.data.DataLoader(mnist_trainset, batch_size=10, sampler=validation_sampler)"
   ]
  },
  {
   "cell_type": "code",
   "execution_count": 40,
   "metadata": {},
   "outputs": [
    {
     "name": "stdout",
     "output_type": "stream",
     "text": [
      "----------------------------------------------------\n",
      "Epoch 1  | Loss : 0.1091\n",
      "----------------------------------------------------\n",
      "Epoch 2  | Loss : 0.0945\n",
      "----------------------------------------------------\n",
      "Epoch 3  | Loss : 0.0868\n",
      "----------------------------------------------------\n",
      "Epoch 4  | Loss : 0.0841\n",
      "----------------------------------------------------\n",
      "Epoch 5  | Loss : 0.0866\n",
      "----------------------------------------------------\n",
      "Epoch 6  | Loss : 0.0811\n",
      "----------------------------------------------------\n",
      "Epoch 7  | Loss : 0.0787\n",
      "----------------------------------------------------\n",
      "Epoch 8  | Loss : 0.0801\n",
      "----------------------------------------------------\n",
      "Epoch 9  | Loss : 0.0803\n",
      "----------------------------------------------------\n",
      "Epoch 10  | Loss : 0.0788\n",
      "----------------------------------------------------\n",
      "Epoch 11  | Loss : 0.0800\n",
      "----------------------------------------------------\n",
      "Epoch 12  | Loss : 0.0782\n",
      "----------------------------------------------------\n",
      "Epoch 13  | Loss : 0.0782\n",
      "----------------------------------------------------\n",
      "Epoch 14  | Loss : 0.0790\n",
      "----------------------------------------------------\n",
      "Epoch 15  | Loss : 0.0793\n",
      "----------------------------------------------------\n",
      "Epoch 16  | Loss : 0.0766\n",
      "----------------------------------------------------\n",
      "Epoch 17  | Loss : 0.0797\n",
      "----------------------------------------------------\n",
      "Epoch 18  | Loss : 0.0750\n",
      "----------------------------------------------------\n",
      "Epoch 19  | Loss : 0.0748\n",
      "----------------------------------------------------\n",
      "Epoch 20  | Loss : 0.0746\n",
      "----------------------------------------------------\n",
      "Finished Training\n"
     ]
    }
   ],
   "source": [
    "#MLP on 50% of the Training Dataset\n",
    "num_epochs = 20\n",
    "total_step = len(train_load5)\n",
    "Loss_5 = []\n",
    "print('----------------------------------------------------')\n",
    "for epoch in range(num_epochs):  # loop over the dataset multiple times\n",
    "\n",
    "    running_loss = 0.0\n",
    "    for i, data in enumerate(train_load5, 0):\n",
    "        # get the inputs\n",
    "        inputs, labels = data\n",
    "\n",
    "        # zero the parameter gradients\n",
    "        optimizer.zero_grad()\n",
    "\n",
    "        # forward + backward + optimize\n",
    "        outputs = MLP_network(inputs)\n",
    "        loss = criterion(outputs, labels)\n",
    "        loss.backward()\n",
    "        optimizer.step()\n",
    "\n",
    "        # print statistics\n",
    "        running_loss += loss.item()\n",
    "        \n",
    "    print('Epoch {}  | Loss : {:.4f}'.format(epoch+1, running_loss / total_step))        \n",
    "    print('----------------------------------------------------')\n",
    "    Loss_5.append(running_loss / total_step)\n",
    "print('Finished Training')"
   ]
  },
  {
   "cell_type": "code",
   "execution_count": 41,
   "metadata": {},
   "outputs": [
    {
     "name": "stdout",
     "output_type": "stream",
     "text": [
      "Accuracy of the network on the 30000 Test images: 95 %\n"
     ]
    }
   ],
   "source": [
    "#Accuracy of 50% of the Validation Test Dataset\n",
    "correct = 0\n",
    "total = 0\n",
    "with torch.no_grad():\n",
    "    for data in validation_load5:\n",
    "        images, labels = data\n",
    "        outputs = MLP_network(images)\n",
    "        _, predicted = torch.max(outputs.data, 1)\n",
    "        total += labels.size(0)\n",
    "        correct += (predicted == labels).sum().item()\n",
    "\n",
    "print('Accuracy of the network on the 30000 Test images: %d %%' % (100 * correct / total))"
   ]
  },
  {
   "cell_type": "code",
   "execution_count": 42,
   "metadata": {},
   "outputs": [
    {
     "name": "stdout",
     "output_type": "stream",
     "text": [
      "Accuracy of class 0 : 97 %\n",
      "Accuracy of class 1 : 98 %\n",
      "Accuracy of class 2 : 97 %\n",
      "Accuracy of class 3 : 96 %\n",
      "Accuracy of class 4 : 91 %\n",
      "Accuracy of class 5 : 95 %\n",
      "Accuracy of class 6 : 93 %\n",
      "Accuracy of class 7 : 93 %\n",
      "Accuracy of class 8 : 96 %\n",
      "Accuracy of class 9 : 96 %\n"
     ]
    }
   ],
   "source": [
    "classes = (0, 1, 2, 3, 4, 5, 6, 7, 8, 9)\n",
    "class_correct = list(0. for i in range(10))\n",
    "class_total = list(0. for i in range(10))\n",
    "with torch.no_grad():\n",
    "    for data in validation_load5:\n",
    "        images, labels = data\n",
    "        outputs = MLP_network(images)\n",
    "        _, predicted = torch.max(outputs, 1)\n",
    "        c = (predicted == labels).squeeze()\n",
    "        for i in range(10):\n",
    "            label = labels[i]\n",
    "            class_correct[label] += c[i].item()\n",
    "            class_total[label] += 1\n",
    "\n",
    "\n",
    "for i in range(10):\n",
    "    print('Accuracy of class %s : %2d %%' % (\n",
    "        classes[i], 100 * class_correct[i] / class_total[i]))"
   ]
  },
  {
   "cell_type": "code",
   "execution_count": 43,
   "metadata": {},
   "outputs": [
    {
     "data": {
      "image/png": "[encoded data removed]",
      "text/plain": [
       "<matplotlib.figure.Figure at 0x121b0f1d0>"
      ]
     },
     "metadata": {},
     "output_type": "display_data"
    }
   ],
   "source": [
    "plt.plot(Loss_1, 'r--', label = \"10% Training Data\")\n",
    "plt.plot(Loss_2, 'b--', label = \"20% Training Data\")\n",
    "plt.plot(Loss_3, 'y--', label = \"30% Training Data\")\n",
    "plt.plot(Loss_4, 'g--', label = \"40% Training Data\")\n",
    "plt.plot(Loss_5, 'k--', label = \"50% Training Data\")\n",
    "plt.title(\"Loss vs Epoch for MNIST Dataset (using MLP)\")\n",
    "plt.xlim([0, num_epochs])\n",
    "plt.xlabel(\"Epoch\")\n",
    "plt.ylabel(\"Loss\")\n",
    "plt.legend(bbox_to_anchor=(1.05, 1), loc=2, borderaxespad=0.)\n",
    "plt.show()"
   ]
  },
  {
   "cell_type": "code",
   "execution_count": null,
   "metadata": {
    "collapsed": true
   },
   "outputs": [],
   "source": []
  }
 ],
 "metadata": {
  "kernelspec": {
   "display_name": "Python 3",
   "language": "python",
   "name": "python3"
  },
  "language_info": {
   "codemirror_mode": {
    "name": "ipython",
    "version": 3
   },
   "file_extension": ".py",
   "mimetype": "text/x-python",
   "name": "python",
   "nbconvert_exporter": "python",
   "pygments_lexer": "ipython3",
   "version": "3.6.3"
  }
 },
 "nbformat": 4,
 "nbformat_minor": 2
}
