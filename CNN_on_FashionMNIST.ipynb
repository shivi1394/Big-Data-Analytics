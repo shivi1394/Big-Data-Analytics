{
 "cells": [
  {
   "cell_type": "code",
   "execution_count": 1,
   "metadata": {
    "collapsed": true
   },
   "outputs": [],
   "source": [
    "import torch\n",
    "import torchvision\n",
    "import torchvision.datasets as datasets\n",
    "import torchvision.transforms as transforms\n",
    "import torch.nn as nn\n",
    "import torch.nn.functional as F\n",
    "import torch.optim as optim\n",
    "import matplotlib \n",
    "import matplotlib.pyplot as plt\n",
    "import numpy as np\n",
    "import pandas as pd\n",
    "import random\n",
    "import math\n",
    "from torch.utils.data.sampler import SubsetRandomSampler"
   ]
  },
  {
   "cell_type": "code",
   "execution_count": 2,
   "metadata": {
    "collapsed": true
   },
   "outputs": [],
   "source": [
    "#Convolution Neural Network \n",
    "class Net(nn.Module):\n",
    "    def __init__(self):\n",
    "        super(Net, self).__init__()\n",
    "        self.conv1 = nn.Conv2d(1,20,5,1)\n",
    "        self.pool = nn.MaxPool2d(kernel_size=2)\n",
    "        self.conv2 = nn.Conv2d(20, 40, 5, 1)\n",
    "        self.fc1 = nn.Linear(4 * 4 * 40, 500)\n",
    "        self.fc2 = nn.Linear(500, 10)\n",
    "        \n",
    "\n",
    "    def forward(self, x):\n",
    "        x = F.relu(self.conv1(x))\n",
    "        x = self.pool(x)\n",
    "        x = F.relu(self.conv2(x))\n",
    "        x = self.pool(x)\n",
    "        x = x.view(-1, 4 * 4 * 40)\n",
    "        x = F.relu(self.fc1(x))\n",
    "        x = self.fc2(x)\n",
    "        return x\n",
    "\n",
    "\n",
    "net = Net()"
   ]
  },
  {
   "cell_type": "code",
   "execution_count": 3,
   "metadata": {
    "collapsed": true
   },
   "outputs": [],
   "source": [
    "criterion = nn.CrossEntropyLoss() \n",
    "optimizer = optim.Adam(net.parameters(), lr=0.001, betas=(0.9,0.99), eps=1e-08, weight_decay=0.001) "
   ]
  },
  {
   "cell_type": "code",
   "execution_count": 4,
   "metadata": {
    "collapsed": true
   },
   "outputs": [],
   "source": [
    "# transforms to apply to the Fashion mnist data\n",
    "normalize = transforms.Normalize(mean=[x/255.0 for x in [125.3, 123.0, 113.9]],\n",
    "                                     std=[x/255.0 for x in [63.0, 62.1, 66.7]])\n",
    "\n",
    "transform = transforms.Compose([transforms.ToTensor(),\n",
    "                                transforms.Normalize((0.1307,), (0.3081,))])\n",
    "\n",
    "# Fashion MNIST dataset\n",
    "fashion_trainset = datasets.FashionMNIST(root='./fmnist/', train=True, download=True, transform=transform)"
   ]
  },
  {
   "cell_type": "code",
   "execution_count": 5,
   "metadata": {},
   "outputs": [
    {
     "data": {
      "image/png": "[encoded data removed]",
      "text/plain": [
       "<matplotlib.figure.Figure at 0x1152385c0>"
      ]
     },
     "metadata": {},
     "output_type": "display_data"
    }
   ],
   "source": [
    "labels_map = ('T-Shirt', 'Trouser', 'Pullover', 'Dress', 'Coat', 'Sandal', 'Shirt','Sneaker', 'Bag', 'Ankle Boot')\n",
    "fig = plt.figure(figsize=(10,10));\n",
    "columns = 4;\n",
    "rows = 5;\n",
    "for i in range(1, 10):\n",
    "    fig.add_subplot(rows, columns, i)\n",
    "    fig.tight_layout()\n",
    "    plt.imshow(fashion_trainset.train_data[i].numpy(), cmap='gray')\n",
    "    plt.title('Training Label : %s' % labels_map[fashion_trainset.train_labels[i]])\n",
    "plt.show()"
   ]
  },
  {
   "cell_type": "code",
   "execution_count": 6,
   "metadata": {
    "collapsed": true
   },
   "outputs": [],
   "source": [
    "num_train = len(fashion_trainset)\n",
    "indices = list(range(num_train))\n",
    "#Splitting the Dataset into 10% Training set and 90% Validation Set\n",
    "split = 54000\n",
    "\n",
    "# Random, non-contiguous split\n",
    "validation_idx = np.random.choice(indices, size=split, replace=False)\n",
    "train_idx = list(set(indices) - set(validation_idx))\n",
    "\n",
    "# Contiguous split\n",
    "# train_idx, validation_idx = indices[split:], indices[:split]\n",
    "\n",
    "## define our samplers -- we use a SubsetRandomSampler because it will return\n",
    "## a random subset of the split defined by the given indices without replaf\n",
    "train_sampler = SubsetRandomSampler(train_idx)\n",
    "validation_sampler = SubsetRandomSampler(validation_idx)\n",
    "\n",
    "train_loader1 = torch.utils.data.DataLoader(fashion_trainset, batch_size=10, sampler=train_sampler)\n",
    "\n",
    "validation_loader1 = torch.utils.data.DataLoader(fashion_trainset, batch_size=10, sampler=validation_sampler)"
   ]
  },
  {
   "cell_type": "code",
   "execution_count": 7,
   "metadata": {},
   "outputs": [
    {
     "name": "stdout",
     "output_type": "stream",
     "text": [
      "----------------------------------------------------\n",
      "Epoch 1  | Loss : 0.7112\n",
      "----------------------------------------------------\n",
      "Epoch 2  | Loss : 0.4664\n",
      "----------------------------------------------------\n",
      "Epoch 3  | Loss : 0.3965\n",
      "----------------------------------------------------\n",
      "Epoch 4  | Loss : 0.3505\n",
      "----------------------------------------------------\n",
      "Epoch 5  | Loss : 0.3260\n",
      "----------------------------------------------------\n",
      "Epoch 6  | Loss : 0.2868\n",
      "----------------------------------------------------\n",
      "Epoch 7  | Loss : 0.2628\n",
      "----------------------------------------------------\n",
      "Epoch 8  | Loss : 0.2469\n",
      "----------------------------------------------------\n",
      "Epoch 9  | Loss : 0.2320\n",
      "----------------------------------------------------\n",
      "Epoch 10  | Loss : 0.2130\n",
      "----------------------------------------------------\n",
      "Epoch 11  | Loss : 0.1985\n",
      "----------------------------------------------------\n",
      "Epoch 12  | Loss : 0.1784\n",
      "----------------------------------------------------\n",
      "Epoch 13  | Loss : 0.1755\n",
      "----------------------------------------------------\n",
      "Epoch 14  | Loss : 0.1674\n",
      "----------------------------------------------------\n",
      "Epoch 15  | Loss : 0.1570\n",
      "----------------------------------------------------\n",
      "Epoch 16  | Loss : 0.1501\n",
      "----------------------------------------------------\n",
      "Epoch 17  | Loss : 0.1401\n",
      "----------------------------------------------------\n",
      "Epoch 18  | Loss : 0.1311\n",
      "----------------------------------------------------\n",
      "Epoch 19  | Loss : 0.1248\n",
      "----------------------------------------------------\n",
      "Epoch 20  | Loss : 0.1148\n",
      "----------------------------------------------------\n",
      "Finished Training\n"
     ]
    }
   ],
   "source": [
    "#CNN on 10% of the Training Dataset\n",
    "num_epochs = 20\n",
    "total_step = len(train_loader1)\n",
    "Loss_f1 = []\n",
    "print('----------------------------------------------------')\n",
    "for epoch in range(num_epochs):  # loop over the dataset multiple times\n",
    "\n",
    "    running_loss = 0.0\n",
    "    for i, data in enumerate(train_loader1, 0):\n",
    "        # get the inputs\n",
    "        inputs, labels = data\n",
    "\n",
    "        # zero the parameter gradients\n",
    "        optimizer.zero_grad()\n",
    "\n",
    "        # forward + backward + optimize\n",
    "        outputs = net(inputs)\n",
    "        loss = criterion(outputs, labels)\n",
    "        loss.backward()\n",
    "        optimizer.step()\n",
    "\n",
    "        # print statistics\n",
    "        running_loss += loss.item()\n",
    "        \n",
    "    print('Epoch {}  | Loss : {:.4f}'.format(epoch+1, running_loss / total_step))        \n",
    "    print('----------------------------------------------------')\n",
    "    Loss_f1.append(running_loss / total_step)\n",
    "print('Finished Training')"
   ]
  },
  {
   "cell_type": "code",
   "execution_count": 8,
   "metadata": {},
   "outputs": [
    {
     "name": "stdout",
     "output_type": "stream",
     "text": [
      "Accuracy of the network on the 54000 test images: 86 %\n"
     ]
    }
   ],
   "source": [
    "#Accuracy of 90% of the Validation Test Dataset\n",
    "correct = 0\n",
    "total = 0\n",
    "with torch.no_grad():\n",
    "    for data in validation_loader1:\n",
    "        images, labels = data\n",
    "        outputs = net(images)\n",
    "        _, predicted = torch.max(outputs.data, 1)\n",
    "        total += labels.size(0)\n",
    "        correct += (predicted == labels).sum().item()\n",
    "\n",
    "print('Accuracy of the network on the 54000 test images: %d %%' % (100 * correct / total))"
   ]
  },
  {
   "cell_type": "code",
   "execution_count": 9,
   "metadata": {},
   "outputs": [
    {
     "name": "stdout",
     "output_type": "stream",
     "text": [
      "Accuracy of class T-Shirt : 85 %\n",
      "Accuracy of class Trouser : 96 %\n",
      "Accuracy of class Pullover : 70 %\n",
      "Accuracy of class Dress : 88 %\n",
      "Accuracy of class  Coat : 76 %\n",
      "Accuracy of class Sandal : 95 %\n",
      "Accuracy of class Shirt : 68 %\n",
      "Accuracy of class Sneaker : 86 %\n",
      "Accuracy of class   Bag : 96 %\n",
      "Accuracy of class Ankle Boot : 97 %\n"
     ]
    }
   ],
   "source": [
    "class_correct = list(0. for i in range(10))\n",
    "class_total = list(0. for i in range(10))\n",
    "with torch.no_grad():\n",
    "    for data in validation_loader1:\n",
    "        images, labels = data\n",
    "        outputs = net(images)\n",
    "        _, predicted = torch.max(outputs, 1)\n",
    "        c = (predicted == labels).squeeze()\n",
    "        for i in range(10):\n",
    "            label = labels[i]\n",
    "            class_correct[label] += c[i].item()\n",
    "            class_total[label] += 1\n",
    "\n",
    "\n",
    "for i in range(10):\n",
    "    print('Accuracy of class %5s : %2d %%' % (\n",
    "        labels_map[i], 100 * class_correct[i] / class_total[i]))"
   ]
  },
  {
   "cell_type": "code",
   "execution_count": 10,
   "metadata": {
    "collapsed": true
   },
   "outputs": [],
   "source": [
    "num_train = len(fashion_trainset)\n",
    "indices = list(range(num_train))\n",
    "#Splitting the Dataset into 20% Training set and 80% Validation Set\n",
    "split = 48000\n",
    "\n",
    "# Random, non-contiguous split\n",
    "validation_idx = np.random.choice(indices, size=split, replace=False)\n",
    "train_idx = list(set(indices) - set(validation_idx))\n",
    "\n",
    "# Contiguous split\n",
    "# train_idx, validation_idx = indices[split:], indices[:split]\n",
    "\n",
    "## define our samplers -- we use a SubsetRandomSampler because it will return\n",
    "## a random subset of the split defined by the given indices without replaf\n",
    "train_sampler = SubsetRandomSampler(train_idx)\n",
    "validation_sampler = SubsetRandomSampler(validation_idx)\n",
    "\n",
    "train_loader2 = torch.utils.data.DataLoader(fashion_trainset, batch_size=10, sampler=train_sampler)\n",
    "\n",
    "validation_loader2 = torch.utils.data.DataLoader(fashion_trainset, batch_size=10, sampler=validation_sampler)"
   ]
  },
  {
   "cell_type": "code",
   "execution_count": 11,
   "metadata": {},
   "outputs": [
    {
     "name": "stdout",
     "output_type": "stream",
     "text": [
      "----------------------------------------------------\n",
      "Epoch 1  | Loss : 0.3687\n",
      "----------------------------------------------------\n",
      "Epoch 2  | Loss : 0.3010\n",
      "----------------------------------------------------\n",
      "Epoch 3  | Loss : 0.2678\n",
      "----------------------------------------------------\n",
      "Epoch 4  | Loss : 0.2497\n",
      "----------------------------------------------------\n",
      "Epoch 5  | Loss : 0.2284\n",
      "----------------------------------------------------\n",
      "Epoch 6  | Loss : 0.2170\n",
      "----------------------------------------------------\n",
      "Epoch 7  | Loss : 0.2036\n",
      "----------------------------------------------------\n",
      "Epoch 8  | Loss : 0.1929\n",
      "----------------------------------------------------\n",
      "Epoch 9  | Loss : 0.1855\n",
      "----------------------------------------------------\n",
      "Epoch 10  | Loss : 0.1765\n",
      "----------------------------------------------------\n",
      "Epoch 11  | Loss : 0.1655\n",
      "----------------------------------------------------\n",
      "Epoch 12  | Loss : 0.1613\n",
      "----------------------------------------------------\n",
      "Epoch 13  | Loss : 0.1512\n",
      "----------------------------------------------------\n",
      "Epoch 14  | Loss : 0.1473\n",
      "----------------------------------------------------\n",
      "Epoch 15  | Loss : 0.1421\n",
      "----------------------------------------------------\n",
      "Epoch 16  | Loss : 0.1361\n",
      "----------------------------------------------------\n",
      "Epoch 17  | Loss : 0.1297\n",
      "----------------------------------------------------\n",
      "Epoch 18  | Loss : 0.1274\n",
      "----------------------------------------------------\n",
      "Epoch 19  | Loss : 0.1230\n",
      "----------------------------------------------------\n",
      "Epoch 20  | Loss : 0.1219\n",
      "----------------------------------------------------\n",
      "Finished Training\n"
     ]
    }
   ],
   "source": [
    "#CNN on 20% of the Training Dataset\n",
    "num_epochs = 20\n",
    "total_step = len(train_loader2)\n",
    "Loss_f2 = []\n",
    "print('----------------------------------------------------')\n",
    "for epoch in range(num_epochs):  # loop over the dataset multiple times\n",
    "\n",
    "    running_loss = 0.0\n",
    "    for i, data in enumerate(train_loader2, 0):\n",
    "        # get the inputs\n",
    "        inputs, labels = data\n",
    "\n",
    "        # zero the parameter gradients\n",
    "        optimizer.zero_grad()\n",
    "\n",
    "        # forward + backward + optimize\n",
    "        outputs = net(inputs)\n",
    "        loss = criterion(outputs, labels)\n",
    "        loss.backward()\n",
    "        optimizer.step()\n",
    "\n",
    "        # print statistics\n",
    "        running_loss += loss.item()\n",
    "        \n",
    "    print('Epoch {}  | Loss : {:.4f}'.format(epoch+1, running_loss / total_step))        \n",
    "    print('----------------------------------------------------')\n",
    "    Loss_f2.append(running_loss / total_step)\n",
    "print('Finished Training')"
   ]
  },
  {
   "cell_type": "code",
   "execution_count": 12,
   "metadata": {},
   "outputs": [
    {
     "name": "stdout",
     "output_type": "stream",
     "text": [
      "Accuracy of the network on the 48000 test images: 88 %\n"
     ]
    }
   ],
   "source": [
    "#Accuracy of 80% of the Validation Test Dataset\n",
    "correct = 0\n",
    "total = 0\n",
    "with torch.no_grad():\n",
    "    for data in validation_loader2:\n",
    "        images, labels = data\n",
    "        outputs = net(images)\n",
    "        _, predicted = torch.max(outputs.data, 1)\n",
    "        total += labels.size(0)\n",
    "        correct += (predicted == labels).sum().item()\n",
    "\n",
    "print('Accuracy of the network on the 48000 test images: %d %%' % (100 * correct / total))"
   ]
  },
  {
   "cell_type": "code",
   "execution_count": 13,
   "metadata": {},
   "outputs": [
    {
     "name": "stdout",
     "output_type": "stream",
     "text": [
      "Accuracy of class T-Shirt : 89 %\n",
      "Accuracy of class Trouser : 97 %\n",
      "Accuracy of class Pullover : 87 %\n",
      "Accuracy of class Dress : 88 %\n",
      "Accuracy of class  Coat : 73 %\n",
      "Accuracy of class Sandal : 93 %\n",
      "Accuracy of class Shirt : 62 %\n",
      "Accuracy of class Sneaker : 90 %\n",
      "Accuracy of class   Bag : 97 %\n",
      "Accuracy of class Ankle Boot : 98 %\n"
     ]
    }
   ],
   "source": [
    "class_correct = list(0. for i in range(10))\n",
    "class_total = list(0. for i in range(10))\n",
    "with torch.no_grad():\n",
    "    for data in validation_loader2:\n",
    "        images, labels = data\n",
    "        outputs = net(images)\n",
    "        _, predicted = torch.max(outputs, 1)\n",
    "        c = (predicted == labels).squeeze()\n",
    "        for i in range(10):\n",
    "            label = labels[i]\n",
    "            class_correct[label] += c[i].item()\n",
    "            class_total[label] += 1\n",
    "\n",
    "\n",
    "for i in range(10):\n",
    "    print('Accuracy of class %5s : %2d %%' % (\n",
    "        labels_map[i], 100 * class_correct[i] / class_total[i]))"
   ]
  },
  {
   "cell_type": "code",
   "execution_count": 14,
   "metadata": {
    "collapsed": true
   },
   "outputs": [],
   "source": [
    "num_train = len(fashion_trainset)\n",
    "indices = list(range(num_train))\n",
    "#Splitting the Dataset into 30% Training set and 70% Validation Set\n",
    "split = 42000\n",
    "\n",
    "# Random, non-contiguous split\n",
    "validation_idx = np.random.choice(indices, size=split, replace=False)\n",
    "train_idx = list(set(indices) - set(validation_idx))\n",
    "\n",
    "# Contiguous split\n",
    "# train_idx, validation_idx = indices[split:], indices[:split]\n",
    "\n",
    "## define our samplers -- we use a SubsetRandomSampler because it will return\n",
    "## a random subset of the split defined by the given indices without replaf\n",
    "train_sampler = SubsetRandomSampler(train_idx)\n",
    "validation_sampler = SubsetRandomSampler(validation_idx)\n",
    "\n",
    "train_loader3 = torch.utils.data.DataLoader(fashion_trainset, batch_size=10, sampler=train_sampler)\n",
    "\n",
    "validation_loader3 = torch.utils.data.DataLoader(fashion_trainset, batch_size=10, sampler=validation_sampler)"
   ]
  },
  {
   "cell_type": "code",
   "execution_count": 15,
   "metadata": {},
   "outputs": [
    {
     "name": "stdout",
     "output_type": "stream",
     "text": [
      "----------------------------------------------------\n",
      "Epoch 1  | Loss : 0.3035\n",
      "----------------------------------------------------\n",
      "Epoch 2  | Loss : 0.2572\n",
      "----------------------------------------------------\n",
      "Epoch 3  | Loss : 0.2336\n",
      "----------------------------------------------------\n",
      "Epoch 4  | Loss : 0.2259\n",
      "----------------------------------------------------\n",
      "Epoch 5  | Loss : 0.2092\n",
      "----------------------------------------------------\n",
      "Epoch 6  | Loss : 0.2012\n",
      "----------------------------------------------------\n",
      "Epoch 7  | Loss : 0.1942\n",
      "----------------------------------------------------\n",
      "Epoch 8  | Loss : 0.1891\n",
      "----------------------------------------------------\n",
      "Epoch 9  | Loss : 0.1806\n",
      "----------------------------------------------------\n",
      "Epoch 10  | Loss : 0.1723\n",
      "----------------------------------------------------\n",
      "Epoch 11  | Loss : 0.1746\n",
      "----------------------------------------------------\n",
      "Epoch 12  | Loss : 0.1664\n",
      "----------------------------------------------------\n",
      "Epoch 13  | Loss : 0.1611\n",
      "----------------------------------------------------\n",
      "Epoch 14  | Loss : 0.1602\n",
      "----------------------------------------------------\n",
      "Epoch 15  | Loss : 0.1546\n",
      "----------------------------------------------------\n",
      "Epoch 16  | Loss : 0.1476\n",
      "----------------------------------------------------\n",
      "Epoch 17  | Loss : 0.1461\n",
      "----------------------------------------------------\n",
      "Epoch 18  | Loss : 0.1442\n",
      "----------------------------------------------------\n",
      "Epoch 19  | Loss : 0.1416\n",
      "----------------------------------------------------\n",
      "Epoch 20  | Loss : 0.1383\n",
      "----------------------------------------------------\n",
      "Finished Training\n"
     ]
    }
   ],
   "source": [
    "#CNN on 30% of the Training Dataset\n",
    "num_epochs = 20\n",
    "total_step = len(train_loader3)\n",
    "Loss_f3 = []\n",
    "print('----------------------------------------------------')\n",
    "for epoch in range(num_epochs):  # loop over the dataset multiple times\n",
    "\n",
    "    running_loss = 0.0\n",
    "    for i, data in enumerate(train_loader3, 0):\n",
    "        # get the inputs\n",
    "        inputs, labels = data\n",
    "\n",
    "        # zero the parameter gradients\n",
    "        optimizer.zero_grad()\n",
    "\n",
    "        # forward + backward + optimize\n",
    "        outputs = net(inputs)\n",
    "        loss = criterion(outputs, labels)\n",
    "        loss.backward()\n",
    "        optimizer.step()\n",
    "\n",
    "        # print statistics\n",
    "        running_loss += loss.item()\n",
    "        \n",
    "    print('Epoch {}  | Loss : {:.4f}'.format(epoch+1, running_loss / total_step))        \n",
    "    print('----------------------------------------------------')\n",
    "    Loss_f3.append(running_loss / total_step)\n",
    "print('Finished Training')"
   ]
  },
  {
   "cell_type": "code",
   "execution_count": 16,
   "metadata": {},
   "outputs": [
    {
     "name": "stdout",
     "output_type": "stream",
     "text": [
      "Accuracy of the network on the 42000 test images: 88 %\n"
     ]
    }
   ],
   "source": [
    "#Accuracy of 70% of the Validation Test Dataset\n",
    "correct = 0\n",
    "total = 0\n",
    "with torch.no_grad():\n",
    "    for data in validation_loader3:\n",
    "        images, labels = data\n",
    "        outputs = net(images)\n",
    "        _, predicted = torch.max(outputs.data, 1)\n",
    "        total += labels.size(0)\n",
    "        correct += (predicted == labels).sum().item()\n",
    "\n",
    "print('Accuracy of the network on the 42000 test images: %d %%' % (100 * correct / total))"
   ]
  },
  {
   "cell_type": "code",
   "execution_count": 17,
   "metadata": {},
   "outputs": [
    {
     "name": "stdout",
     "output_type": "stream",
     "text": [
      "Accuracy of class T-Shirt : 77 %\n",
      "Accuracy of class Trouser : 97 %\n",
      "Accuracy of class Pullover : 82 %\n",
      "Accuracy of class Dress : 94 %\n",
      "Accuracy of class  Coat : 85 %\n",
      "Accuracy of class Sandal : 95 %\n",
      "Accuracy of class Shirt : 70 %\n",
      "Accuracy of class Sneaker : 98 %\n",
      "Accuracy of class   Bag : 96 %\n",
      "Accuracy of class Ankle Boot : 92 %\n"
     ]
    }
   ],
   "source": [
    "class_correct = list(0. for i in range(10))\n",
    "class_total = list(0. for i in range(10))\n",
    "with torch.no_grad():\n",
    "    for data in validation_loader3:\n",
    "        images, labels = data\n",
    "        outputs = net(images)\n",
    "        _, predicted = torch.max(outputs, 1)\n",
    "        c = (predicted == labels).squeeze()\n",
    "        for i in range(10):\n",
    "            label = labels[i]\n",
    "            class_correct[label] += c[i].item()\n",
    "            class_total[label] += 1\n",
    "\n",
    "\n",
    "for i in range(10):\n",
    "    print('Accuracy of class %5s : %2d %%' % (\n",
    "        labels_map[i], 100 * class_correct[i] / class_total[i]))"
   ]
  },
  {
   "cell_type": "code",
   "execution_count": 18,
   "metadata": {
    "collapsed": true
   },
   "outputs": [],
   "source": [
    "num_train = len(fashion_trainset)\n",
    "indices = list(range(num_train))\n",
    "#Splitting the Dataset into 40% Training set and 60% Validation Set\n",
    "split = 36000\n",
    "\n",
    "# Random, non-contiguous split\n",
    "validation_idx = np.random.choice(indices, size=split, replace=False)\n",
    "train_idx = list(set(indices) - set(validation_idx))\n",
    "\n",
    "# Contiguous split\n",
    "# train_idx, validation_idx = indices[split:], indices[:split]\n",
    "\n",
    "## define our samplers -- we use a SubsetRandomSampler because it will return\n",
    "## a random subset of the split defined by the given indices without replaf\n",
    "train_sampler = SubsetRandomSampler(train_idx)\n",
    "validation_sampler = SubsetRandomSampler(validation_idx)\n",
    "\n",
    "train_loader4 = torch.utils.data.DataLoader(fashion_trainset, batch_size=10, sampler=train_sampler)\n",
    "\n",
    "validation_loader4 = torch.utils.data.DataLoader(fashion_trainset, batch_size=10, sampler=validation_sampler)"
   ]
  },
  {
   "cell_type": "code",
   "execution_count": 19,
   "metadata": {},
   "outputs": [
    {
     "name": "stdout",
     "output_type": "stream",
     "text": [
      "----------------------------------------------------\n",
      "Epoch 1  | Loss : 0.2837\n",
      "----------------------------------------------------\n",
      "Epoch 2  | Loss : 0.2478\n",
      "----------------------------------------------------\n",
      "Epoch 3  | Loss : 0.2320\n",
      "----------------------------------------------------\n",
      "Epoch 4  | Loss : 0.2181\n",
      "----------------------------------------------------\n",
      "Epoch 5  | Loss : 0.2107\n",
      "----------------------------------------------------\n",
      "Epoch 6  | Loss : 0.2026\n",
      "----------------------------------------------------\n",
      "Epoch 7  | Loss : 0.1995\n",
      "----------------------------------------------------\n",
      "Epoch 8  | Loss : 0.1913\n",
      "----------------------------------------------------\n",
      "Epoch 9  | Loss : 0.1859\n",
      "----------------------------------------------------\n",
      "Epoch 10  | Loss : 0.1838\n",
      "----------------------------------------------------\n",
      "Epoch 11  | Loss : 0.1823\n",
      "----------------------------------------------------\n",
      "Epoch 12  | Loss : 0.1737\n",
      "----------------------------------------------------\n",
      "Epoch 13  | Loss : 0.1712\n",
      "----------------------------------------------------\n",
      "Epoch 14  | Loss : 0.1733\n",
      "----------------------------------------------------\n",
      "Epoch 15  | Loss : 0.1699\n",
      "----------------------------------------------------\n",
      "Epoch 16  | Loss : 0.1699\n",
      "----------------------------------------------------\n",
      "Epoch 17  | Loss : 0.1655\n",
      "----------------------------------------------------\n",
      "Epoch 18  | Loss : 0.1630\n",
      "----------------------------------------------------\n",
      "Epoch 19  | Loss : 0.1594\n",
      "----------------------------------------------------\n",
      "Epoch 20  | Loss : 0.1595\n",
      "----------------------------------------------------\n",
      "Finished Training\n"
     ]
    }
   ],
   "source": [
    "#CNN on 40% of the Training Dataset\n",
    "num_epochs = 20\n",
    "total_step = len(train_loader4)\n",
    "Loss_f4 = []\n",
    "print('----------------------------------------------------')\n",
    "for epoch in range(num_epochs):  # loop over the dataset multiple times\n",
    "\n",
    "    running_loss = 0.0\n",
    "    for i, data in enumerate(train_loader4, 0):\n",
    "        # get the inputs\n",
    "        inputs, labels = data\n",
    "\n",
    "        # zero the parameter gradients\n",
    "        optimizer.zero_grad()\n",
    "\n",
    "        # forward + backward + optimize\n",
    "        outputs = net(inputs)\n",
    "        loss = criterion(outputs, labels)\n",
    "        loss.backward()\n",
    "        optimizer.step()\n",
    "\n",
    "        # print statistics\n",
    "        running_loss += loss.item()\n",
    "        \n",
    "    print('Epoch {}  | Loss : {:.4f}'.format(epoch+1, running_loss / total_step))        \n",
    "    print('----------------------------------------------------')\n",
    "    Loss_f4.append(running_loss / total_step)\n",
    "print('Finished Training')"
   ]
  },
  {
   "cell_type": "code",
   "execution_count": 20,
   "metadata": {},
   "outputs": [
    {
     "name": "stdout",
     "output_type": "stream",
     "text": [
      "Accuracy of the network on the 36000 test images: 89 %\n"
     ]
    }
   ],
   "source": [
    "#Accuracy of 60% of the Validation Test Dataset\n",
    "correct = 0\n",
    "total = 0\n",
    "with torch.no_grad():\n",
    "    for data in validation_loader4:\n",
    "        images, labels = data\n",
    "        outputs = net(images)\n",
    "        _, predicted = torch.max(outputs.data, 1)\n",
    "        total += labels.size(0)\n",
    "        correct += (predicted == labels).sum().item()\n",
    "\n",
    "print('Accuracy of the network on the 36000 test images: %d %%' % (100 * correct / total))"
   ]
  },
  {
   "cell_type": "code",
   "execution_count": 21,
   "metadata": {},
   "outputs": [
    {
     "name": "stdout",
     "output_type": "stream",
     "text": [
      "Accuracy of class T-Shirt : 82 %\n",
      "Accuracy of class Trouser : 97 %\n",
      "Accuracy of class Pullover : 89 %\n",
      "Accuracy of class Dress : 92 %\n",
      "Accuracy of class  Coat : 79 %\n",
      "Accuracy of class Sandal : 94 %\n",
      "Accuracy of class Shirt : 72 %\n",
      "Accuracy of class Sneaker : 97 %\n",
      "Accuracy of class   Bag : 97 %\n",
      "Accuracy of class Ankle Boot : 96 %\n"
     ]
    }
   ],
   "source": [
    "class_correct = list(0. for i in range(10))\n",
    "class_total = list(0. for i in range(10))\n",
    "with torch.no_grad():\n",
    "    for data in validation_loader4:\n",
    "        images, labels = data\n",
    "        outputs = net(images)\n",
    "        _, predicted = torch.max(outputs, 1)\n",
    "        c = (predicted == labels).squeeze()\n",
    "        for i in range(10):\n",
    "            label = labels[i]\n",
    "            class_correct[label] += c[i].item()\n",
    "            class_total[label] += 1\n",
    "\n",
    "\n",
    "for i in range(10):\n",
    "    print('Accuracy of class %5s : %2d %%' % (\n",
    "        labels_map[i], 100 * class_correct[i] / class_total[i]))"
   ]
  },
  {
   "cell_type": "code",
   "execution_count": 22,
   "metadata": {
    "collapsed": true
   },
   "outputs": [],
   "source": [
    "num_train = len(fashion_trainset)\n",
    "indices = list(range(num_train))\n",
    "#Splitting the Dataset into 50% Training set and 50% Validation Set\n",
    "split = 30000\n",
    "\n",
    "# Random, non-contiguous split\n",
    "validation_idx = np.random.choice(indices, size=split, replace=False)\n",
    "train_idx = list(set(indices) - set(validation_idx))\n",
    "\n",
    "# Contiguous split\n",
    "# train_idx, validation_idx = indices[split:], indices[:split]\n",
    "\n",
    "## define our samplers -- we use a SubsetRandomSampler because it will return\n",
    "## a random subset of the split defined by the given indices without replaf\n",
    "train_sampler = SubsetRandomSampler(train_idx)\n",
    "validation_sampler = SubsetRandomSampler(validation_idx)\n",
    "\n",
    "train_loader5 = torch.utils.data.DataLoader(fashion_trainset, batch_size=10, sampler=train_sampler)\n",
    "\n",
    "validation_loader5 = torch.utils.data.DataLoader(fashion_trainset, batch_size=10, sampler=validation_sampler)"
   ]
  },
  {
   "cell_type": "code",
   "execution_count": 23,
   "metadata": {},
   "outputs": [
    {
     "name": "stdout",
     "output_type": "stream",
     "text": [
      "----------------------------------------------------\n",
      "Epoch 1  | Loss : 0.2537\n",
      "----------------------------------------------------\n",
      "Epoch 2  | Loss : 0.2278\n",
      "----------------------------------------------------\n",
      "Epoch 3  | Loss : 0.2183\n",
      "----------------------------------------------------\n",
      "Epoch 4  | Loss : 0.2131\n",
      "----------------------------------------------------\n",
      "Epoch 5  | Loss : 0.2055\n",
      "----------------------------------------------------\n",
      "Epoch 6  | Loss : 0.2016\n",
      "----------------------------------------------------\n",
      "Epoch 7  | Loss : 0.1995\n",
      "----------------------------------------------------\n",
      "Epoch 8  | Loss : 0.1950\n",
      "----------------------------------------------------\n",
      "Epoch 9  | Loss : 0.1955\n",
      "----------------------------------------------------\n",
      "Epoch 10  | Loss : 0.1912\n",
      "----------------------------------------------------\n",
      "Epoch 11  | Loss : 0.1927\n",
      "----------------------------------------------------\n",
      "Epoch 12  | Loss : 0.1885\n",
      "----------------------------------------------------\n",
      "Epoch 13  | Loss : 0.1854\n",
      "----------------------------------------------------\n",
      "Epoch 14  | Loss : 0.1837\n",
      "----------------------------------------------------\n",
      "Epoch 15  | Loss : 0.1836\n",
      "----------------------------------------------------\n",
      "Epoch 16  | Loss : 0.1785\n",
      "----------------------------------------------------\n",
      "Epoch 17  | Loss : 0.1822\n",
      "----------------------------------------------------\n",
      "Epoch 18  | Loss : 0.1790\n",
      "----------------------------------------------------\n",
      "Epoch 19  | Loss : 0.1780\n",
      "----------------------------------------------------\n",
      "Epoch 20  | Loss : 0.1752\n",
      "----------------------------------------------------\n",
      "Finished Training\n"
     ]
    }
   ],
   "source": [
    "#CNN on 50% of the Training Dataset\n",
    "num_epochs = 20\n",
    "total_step = len(train_loader5)\n",
    "Loss_f5 = []\n",
    "print('----------------------------------------------------')\n",
    "for epoch in range(num_epochs):  # loop over the dataset multiple times\n",
    "\n",
    "    running_loss = 0.0\n",
    "    for i, data in enumerate(train_loader5, 0):\n",
    "        # get the inputs\n",
    "        inputs, labels = data\n",
    "\n",
    "        # zero the parameter gradients\n",
    "        optimizer.zero_grad()\n",
    "\n",
    "        # forward + backward + optimize\n",
    "        outputs = net(inputs)\n",
    "        loss = criterion(outputs, labels)\n",
    "        loss.backward()\n",
    "        optimizer.step()\n",
    "\n",
    "        # print statistics\n",
    "        running_loss += loss.item()\n",
    "        \n",
    "    print('Epoch {}  | Loss : {:.4f}'.format(epoch+1, running_loss / total_step))        \n",
    "    print('----------------------------------------------------')\n",
    "    Loss_f5.append(running_loss / total_step)\n",
    "print('Finished Training')"
   ]
  },
  {
   "cell_type": "code",
   "execution_count": 24,
   "metadata": {},
   "outputs": [
    {
     "name": "stdout",
     "output_type": "stream",
     "text": [
      "Accuracy of the network on the 30000 test images: 90 %\n"
     ]
    }
   ],
   "source": [
    "#Accuracy of 50% of the Validation Test Dataset\n",
    "correct = 0\n",
    "total = 0\n",
    "with torch.no_grad():\n",
    "    for data in validation_loader5:\n",
    "        images, labels = data\n",
    "        outputs = net(images)\n",
    "        _, predicted = torch.max(outputs.data, 1)\n",
    "        total += labels.size(0)\n",
    "        correct += (predicted == labels).sum().item()\n",
    "\n",
    "print('Accuracy of the network on the 30000 test images: %d %%' % (100 * correct / total))"
   ]
  },
  {
   "cell_type": "code",
   "execution_count": 25,
   "metadata": {},
   "outputs": [
    {
     "name": "stdout",
     "output_type": "stream",
     "text": [
      "Accuracy of class T-Shirt : 80 %\n",
      "Accuracy of class Trouser : 97 %\n",
      "Accuracy of class Pullover : 87 %\n",
      "Accuracy of class Dress : 91 %\n",
      "Accuracy of class  Coat : 83 %\n",
      "Accuracy of class Sandal : 97 %\n",
      "Accuracy of class Shirt : 79 %\n",
      "Accuracy of class Sneaker : 98 %\n",
      "Accuracy of class   Bag : 95 %\n",
      "Accuracy of class Ankle Boot : 91 %\n"
     ]
    }
   ],
   "source": [
    "class_correct = list(0. for i in range(10))\n",
    "class_total = list(0. for i in range(10))\n",
    "with torch.no_grad():\n",
    "    for data in validation_loader5:\n",
    "        images, labels = data\n",
    "        outputs = net(images)\n",
    "        _, predicted = torch.max(outputs, 1)\n",
    "        c = (predicted == labels).squeeze()\n",
    "        for i in range(10):\n",
    "            label = labels[i]\n",
    "            class_correct[label] += c[i].item()\n",
    "            class_total[label] += 1\n",
    "\n",
    "\n",
    "for i in range(10):\n",
    "    print('Accuracy of class %5s : %2d %%' % (\n",
    "        labels_map[i], 100 * class_correct[i] / class_total[i]))"
   ]
  },
  {
   "cell_type": "code",
   "execution_count": 27,
   "metadata": {},
   "outputs": [
    {
     "data": {
      "image/png": "[encoded data removed]",
      "text/plain": [
       "<matplotlib.figure.Figure at 0x11bc885c0>"
      ]
     },
     "metadata": {},
     "output_type": "display_data"
    }
   ],
   "source": [
    "plt.plot(Loss_f1, 'r--', label = \"10% Training Data\")\n",
    "plt.plot(Loss_f2, 'b--', label = \"20% Training Data\")\n",
    "plt.plot(Loss_f3, 'y--', label = \"30% Training Data\")\n",
    "plt.plot(Loss_f4, 'g--', label = \"40% Training Data\")\n",
    "plt.plot(Loss_f5, 'k--', label = \"50% Training Data\")\n",
    "plt.title(\"Loss vs Epoch for Fashion MNIST Dataset (using CNN)\")\n",
    "plt.xlim([0, num_epochs])\n",
    "plt.xlabel(\"Epoch\")\n",
    "plt.ylabel(\"Loss\")\n",
    "plt.legend(bbox_to_anchor=(1.05, 1), loc=2, borderaxespad=0.)\n",
    "plt.show()"
   ]
  },
  {
   "cell_type": "code",
   "execution_count": null,
   "metadata": {
    "collapsed": true
   },
   "outputs": [],
   "source": []
  }
 ],
 "metadata": {
  "kernelspec": {
   "display_name": "Python 3",
   "language": "python",
   "name": "python3"
  },
  "language_info": {
   "codemirror_mode": {
    "name": "ipython",
    "version": 3
   },
   "file_extension": ".py",
   "mimetype": "text/x-python",
   "name": "python",
   "nbconvert_exporter": "python",
   "pygments_lexer": "ipython3",
   "version": "3.6.3"
  }
 },
 "nbformat": 4,
 "nbformat_minor": 2
}
