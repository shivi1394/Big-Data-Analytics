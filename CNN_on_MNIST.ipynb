{
 "cells": [
  {
   "cell_type": "code",
   "execution_count": 1,
   "metadata": {
    "collapsed": true
   },
   "outputs": [],
   "source": [
    "import torch\n",
    "import torchvision\n",
    "import torchvision.datasets as datasets\n",
    "import torchvision.transforms as transforms\n",
    "import torch.nn as nn\n",
    "import torch.nn.functional as F\n",
    "import torch.optim as optim\n",
    "import matplotlib \n",
    "import matplotlib.pyplot as plt\n",
    "import numpy as np\n",
    "import pandas as pd\n",
    "import random\n",
    "import math\n",
    "from torch.utils.data.sampler import SubsetRandomSampler"
   ]
  },
  {
   "cell_type": "code",
   "execution_count": 2,
   "metadata": {
    "collapsed": true
   },
   "outputs": [],
   "source": [
    "#Convolution Neural Network \n",
    "class Net(nn.Module):\n",
    "    def __init__(self):\n",
    "        super(Net, self).__init__()\n",
    "        self.conv1 = nn.Conv2d(1,20,5,1)\n",
    "        self.pool = nn.MaxPool2d(kernel_size=2)\n",
    "        self.conv2 = nn.Conv2d(20, 40, 5, 1)\n",
    "        self.fc1 = nn.Linear(4 * 4 * 40, 500)\n",
    "        self.fc2 = nn.Linear(500, 10)\n",
    "        \n",
    "\n",
    "    def forward(self, x):\n",
    "        x = F.relu(self.conv1(x))\n",
    "        x = self.pool(x)\n",
    "        x = F.relu(self.conv2(x))\n",
    "        x = self.pool(x)\n",
    "        x = x.view(-1, 4 * 4 * 40)\n",
    "        x = F.relu(self.fc1(x))\n",
    "        x = self.fc2(x)\n",
    "        return x\n",
    "\n",
    "\n",
    "net = Net()\n"
   ]
  },
  {
   "cell_type": "code",
   "execution_count": 3,
   "metadata": {
    "collapsed": true
   },
   "outputs": [],
   "source": [
    "criterion = nn.CrossEntropyLoss() \n",
    "optimizer = optim.Adam(net.parameters(), lr=0.001, betas=(0.9,0.99), eps=1e-08, weight_decay=0.001) "
   ]
  },
  {
   "cell_type": "code",
   "execution_count": 4,
   "metadata": {
    "collapsed": true
   },
   "outputs": [],
   "source": [
    "# transforms to apply to the mnist data\n",
    "transform = transforms.Compose([transforms.ToTensor(), transforms.Normalize((0.1307,), (0.3081,))])\n",
    "\n",
    "# MNIST dataset\n",
    "mnist_trainset = datasets.MNIST(root='./data', train=True, download=True, transform=transform)"
   ]
  },
  {
   "cell_type": "code",
   "execution_count": 5,
   "metadata": {},
   "outputs": [
    {
     "data": {
      "image/png": "[encoded data removed]",
      "text/plain": [
       "<matplotlib.figure.Figure at 0x113632748>"
      ]
     },
     "metadata": {},
     "output_type": "display_data"
    }
   ],
   "source": [
    "fig = plt.figure(figsize=(10,10));\n",
    "columns = 4;\n",
    "rows = 5;\n",
    "for i in range(1, 10):\n",
    "    fig.add_subplot(rows, columns, i)\n",
    "    fig.tight_layout()\n",
    "    plt.imshow(mnist_trainset.train_data[i].numpy(), cmap='gray')\n",
    "    plt.title('Training Label : %i' % mnist_trainset.train_labels[i])\n",
    "plt.show()\n"
   ]
  },
  {
   "cell_type": "code",
   "execution_count": 6,
   "metadata": {
    "collapsed": true
   },
   "outputs": [],
   "source": [
    "num_train = len(mnist_trainset)\n",
    "indices = list(range(num_train))\n",
    "#Splitting the Dataset into 10% Training set and 90% Validation Set\n",
    "split = 54000\n",
    "\n",
    "# Random, non-contiguous split\n",
    "validation_idx = np.random.choice(indices, size=split, replace=False)\n",
    "train_idx = list(set(indices) - set(validation_idx))\n",
    "\n",
    "# Contiguous split\n",
    "# train_idx, validation_idx = indices[split:], indices[:split]\n",
    "\n",
    "## define our samplers -- we use a SubsetRandomSampler because it will return\n",
    "## a random subset of the split defined by the given indices without replaf\n",
    "train_sampler = SubsetRandomSampler(train_idx)\n",
    "validation_sampler = SubsetRandomSampler(validation_idx)\n",
    "\n",
    "train_load1 = torch.utils.data.DataLoader(mnist_trainset, batch_size=10, sampler=train_sampler)\n",
    "\n",
    "validation_load1 = torch.utils.data.DataLoader(mnist_trainset, batch_size=10, sampler=validation_sampler)"
   ]
  },
  {
   "cell_type": "code",
   "execution_count": 7,
   "metadata": {},
   "outputs": [
    {
     "name": "stdout",
     "output_type": "stream",
     "text": [
      "----------------------------------------------------\n",
      "Epoch 1  | Loss : 0.3228\n",
      "----------------------------------------------------\n",
      "Epoch 2  | Loss : 0.1065\n",
      "----------------------------------------------------\n",
      "Epoch 3  | Loss : 0.0802\n",
      "----------------------------------------------------\n",
      "Epoch 4  | Loss : 0.0570\n",
      "----------------------------------------------------\n",
      "Epoch 5  | Loss : 0.0457\n",
      "----------------------------------------------------\n",
      "Epoch 6  | Loss : 0.0495\n",
      "----------------------------------------------------\n",
      "Epoch 7  | Loss : 0.0412\n",
      "----------------------------------------------------\n",
      "Epoch 8  | Loss : 0.0391\n",
      "----------------------------------------------------\n",
      "Epoch 9  | Loss : 0.0322\n",
      "----------------------------------------------------\n",
      "Epoch 10  | Loss : 0.0307\n",
      "----------------------------------------------------\n",
      "Epoch 11  | Loss : 0.0339\n",
      "----------------------------------------------------\n",
      "Epoch 12  | Loss : 0.0253\n",
      "----------------------------------------------------\n",
      "Epoch 13  | Loss : 0.0256\n",
      "----------------------------------------------------\n",
      "Epoch 14  | Loss : 0.0257\n",
      "----------------------------------------------------\n",
      "Epoch 15  | Loss : 0.0232\n",
      "----------------------------------------------------\n",
      "Epoch 16  | Loss : 0.0211\n",
      "----------------------------------------------------\n",
      "Epoch 17  | Loss : 0.0256\n",
      "----------------------------------------------------\n",
      "Epoch 18  | Loss : 0.0234\n",
      "----------------------------------------------------\n",
      "Epoch 19  | Loss : 0.0219\n",
      "----------------------------------------------------\n",
      "Epoch 20  | Loss : 0.0220\n",
      "----------------------------------------------------\n",
      "Finished Training\n"
     ]
    }
   ],
   "source": [
    "#CNN on 10% of the Training Dataset\n",
    "num_epochs = 20\n",
    "total_step = len(train_load1)\n",
    "Loss1 = []\n",
    "print('----------------------------------------------------')\n",
    "for epoch in range(num_epochs):  # loop over the dataset multiple times\n",
    "\n",
    "    running_loss = 0.0\n",
    "    for i, data in enumerate(train_load1, 0):\n",
    "        # get the inputs\n",
    "        inputs, labels = data\n",
    "\n",
    "        # zero the parameter gradients\n",
    "        optimizer.zero_grad()\n",
    "\n",
    "        # forward + backward + optimize\n",
    "        outputs = net(inputs)\n",
    "        loss = criterion(outputs, labels)\n",
    "        loss.backward()\n",
    "        optimizer.step()\n",
    "\n",
    "        # print statistics\n",
    "        running_loss += loss.item()\n",
    "        \n",
    "    print('Epoch {}  | Loss : {:.4f}'.format(epoch+1, running_loss / total_step))        \n",
    "    print('----------------------------------------------------')\n",
    "    Loss1.append(running_loss / total_step)\n",
    "print('Finished Training')"
   ]
  },
  {
   "cell_type": "code",
   "execution_count": 8,
   "metadata": {},
   "outputs": [
    {
     "name": "stdout",
     "output_type": "stream",
     "text": [
      "Accuracy of the network on the 54000 test images: 97 %\n"
     ]
    }
   ],
   "source": [
    "#Accuracy of 90% of the Validation Test Dataset\n",
    "correct = 0\n",
    "total = 0\n",
    "with torch.no_grad():\n",
    "    for data in validation_load1:\n",
    "        images, labels = data\n",
    "        outputs = net(images)\n",
    "        _, predicted = torch.max(outputs.data, 1)\n",
    "        total += labels.size(0)\n",
    "        correct += (predicted == labels).sum().item()\n",
    "\n",
    "print('Accuracy of the network on the 54000 test images: %d %%' % (100 * correct / total))"
   ]
  },
  {
   "cell_type": "code",
   "execution_count": 9,
   "metadata": {},
   "outputs": [
    {
     "name": "stdout",
     "output_type": "stream",
     "text": [
      "Accuracy of class 0 : 98 %\n",
      "Accuracy of class 1 : 98 %\n",
      "Accuracy of class 2 : 97 %\n",
      "Accuracy of class 3 : 97 %\n",
      "Accuracy of class 4 : 98 %\n",
      "Accuracy of class 5 : 97 %\n",
      "Accuracy of class 6 : 98 %\n",
      "Accuracy of class 7 : 94 %\n",
      "Accuracy of class 8 : 98 %\n",
      "Accuracy of class 9 : 97 %\n"
     ]
    }
   ],
   "source": [
    "classes = (0, 1, 2, 3, 4, 5, 6, 7, 8, 9)\n",
    "class_correct = list(0. for i in range(10))\n",
    "class_total = list(0. for i in range(10))\n",
    "with torch.no_grad():\n",
    "    for data in validation_load1:\n",
    "        images, labels = data\n",
    "        outputs = net(images)\n",
    "        _, predicted = torch.max(outputs, 1)\n",
    "        c = (predicted == labels).squeeze()\n",
    "        for i in range(10):\n",
    "            label = labels[i]\n",
    "            class_correct[label] += c[i].item()\n",
    "            class_total[label] += 1\n",
    "\n",
    "\n",
    "for i in range(10):\n",
    "    print('Accuracy of class %s : %2d %%' % (\n",
    "        classes[i], 100 * class_correct[i] / class_total[i]))"
   ]
  },
  {
   "cell_type": "code",
   "execution_count": 10,
   "metadata": {
    "collapsed": true
   },
   "outputs": [],
   "source": [
    "num_train = len(mnist_trainset)\n",
    "indices = list(range(num_train))\n",
    "#Splitting the Dataset into 20% Training set and 80% Validation Set\n",
    "split = 48000\n",
    "\n",
    "# Random, non-contiguous split\n",
    "validation_idx = np.random.choice(indices, size=split, replace=False)\n",
    "train_idx = list(set(indices) - set(validation_idx))\n",
    "\n",
    "# Contiguous split\n",
    "# train_idx, validation_idx = indices[split:], indices[:split]\n",
    "\n",
    "## define our samplers -- we use a SubsetRandomSampler because it will return\n",
    "## a random subset of the split defined by the given indices without replaf\n",
    "train_sampler = SubsetRandomSampler(train_idx)\n",
    "validation_sampler = SubsetRandomSampler(validation_idx)\n",
    "\n",
    "train_load2 = torch.utils.data.DataLoader(mnist_trainset, batch_size=10, sampler=train_sampler)\n",
    "\n",
    "validation_load2 = torch.utils.data.DataLoader(mnist_trainset, batch_size=10, sampler=validation_sampler)"
   ]
  },
  {
   "cell_type": "code",
   "execution_count": 11,
   "metadata": {},
   "outputs": [
    {
     "name": "stdout",
     "output_type": "stream",
     "text": [
      "----------------------------------------------------\n",
      "Epoch 1  | Loss : 0.0729\n",
      "----------------------------------------------------\n",
      "Epoch 2  | Loss : 0.0521\n",
      "----------------------------------------------------\n",
      "Epoch 3  | Loss : 0.0465\n",
      "----------------------------------------------------\n",
      "Epoch 4  | Loss : 0.0402\n",
      "----------------------------------------------------\n",
      "Epoch 5  | Loss : 0.0360\n",
      "----------------------------------------------------\n",
      "Epoch 6  | Loss : 0.0334\n",
      "----------------------------------------------------\n",
      "Epoch 7  | Loss : 0.0311\n",
      "----------------------------------------------------\n",
      "Epoch 8  | Loss : 0.0288\n",
      "----------------------------------------------------\n",
      "Epoch 9  | Loss : 0.0276\n",
      "----------------------------------------------------\n",
      "Epoch 10  | Loss : 0.0258\n",
      "----------------------------------------------------\n",
      "Epoch 11  | Loss : 0.0287\n",
      "----------------------------------------------------\n",
      "Epoch 12  | Loss : 0.0237\n",
      "----------------------------------------------------\n",
      "Epoch 13  | Loss : 0.0253\n",
      "----------------------------------------------------\n",
      "Epoch 14  | Loss : 0.0241\n",
      "----------------------------------------------------\n",
      "Epoch 15  | Loss : 0.0233\n",
      "----------------------------------------------------\n",
      "Epoch 16  | Loss : 0.0227\n",
      "----------------------------------------------------\n",
      "Epoch 17  | Loss : 0.0224\n",
      "----------------------------------------------------\n",
      "Epoch 18  | Loss : 0.0203\n",
      "----------------------------------------------------\n",
      "Epoch 19  | Loss : 0.0210\n",
      "----------------------------------------------------\n",
      "Epoch 20  | Loss : 0.0219\n",
      "----------------------------------------------------\n",
      "Finished Training\n"
     ]
    }
   ],
   "source": [
    "#CNN on 20% of the Training Dataset\n",
    "num_epochs = 20\n",
    "total_step = len(train_load2)\n",
    "Loss2 = []\n",
    "print('----------------------------------------------------')\n",
    "for epoch in range(num_epochs):  # loop over the dataset multiple times\n",
    "\n",
    "    running_loss = 0.0\n",
    "    for i, data in enumerate(train_load2, 0):\n",
    "        # get the inputs\n",
    "        inputs, labels = data\n",
    "\n",
    "        # zero the parameter gradients\n",
    "        optimizer.zero_grad()\n",
    "\n",
    "        # forward + backward + optimize\n",
    "        outputs = net(inputs)\n",
    "        loss = criterion(outputs, labels)\n",
    "        loss.backward()\n",
    "        optimizer.step()\n",
    "\n",
    "        # print statistics\n",
    "        running_loss += loss.item()\n",
    "        \n",
    "    print('Epoch {}  | Loss : {:.4f}'.format(epoch+1, running_loss / total_step))        \n",
    "    print('----------------------------------------------------')\n",
    "    Loss2.append(running_loss / total_step)\n",
    "print('Finished Training')"
   ]
  },
  {
   "cell_type": "code",
   "execution_count": 12,
   "metadata": {},
   "outputs": [
    {
     "name": "stdout",
     "output_type": "stream",
     "text": [
      "Accuracy of the network on the 48000 test images: 97 %\n"
     ]
    }
   ],
   "source": [
    "#Accuracy of 80% of the Validation Test Dataset\n",
    "correct = 0\n",
    "total = 0\n",
    "with torch.no_grad():\n",
    "    for data in validation_load2:\n",
    "        images, labels = data\n",
    "        outputs = net(images)\n",
    "        _, predicted = torch.max(outputs.data, 1)\n",
    "        total += labels.size(0)\n",
    "        correct += (predicted == labels).sum().item()\n",
    "\n",
    "print('Accuracy of the network on the 48000 test images: %d %%' % (100 * correct / total))"
   ]
  },
  {
   "cell_type": "code",
   "execution_count": 13,
   "metadata": {},
   "outputs": [
    {
     "name": "stdout",
     "output_type": "stream",
     "text": [
      "Accuracy of class 0 : 99 %\n",
      "Accuracy of class 1 : 96 %\n",
      "Accuracy of class 2 : 98 %\n",
      "Accuracy of class 3 : 96 %\n",
      "Accuracy of class 4 : 99 %\n",
      "Accuracy of class 5 : 96 %\n",
      "Accuracy of class 6 : 98 %\n",
      "Accuracy of class 7 : 96 %\n",
      "Accuracy of class 8 : 99 %\n",
      "Accuracy of class 9 : 95 %\n"
     ]
    }
   ],
   "source": [
    "classes = (0, 1, 2, 3, 4, 5, 6, 7, 8, 9)\n",
    "class_correct = list(0. for i in range(10))\n",
    "class_total = list(0. for i in range(10))\n",
    "with torch.no_grad():\n",
    "    for data in validation_load2:\n",
    "        images, labels = data\n",
    "        outputs = net(images)\n",
    "        _, predicted = torch.max(outputs, 1)\n",
    "        c = (predicted == labels).squeeze()\n",
    "        for i in range(10):\n",
    "            label = labels[i]\n",
    "            class_correct[label] += c[i].item()\n",
    "            class_total[label] += 1\n",
    "\n",
    "\n",
    "for i in range(10):\n",
    "    print('Accuracy of class %s : %2d %%' % (\n",
    "        classes[i], 100 * class_correct[i] / class_total[i]))"
   ]
  },
  {
   "cell_type": "code",
   "execution_count": 14,
   "metadata": {
    "collapsed": true
   },
   "outputs": [],
   "source": [
    "num_train = len(mnist_trainset)\n",
    "indices = list(range(num_train))\n",
    "#Splitting the Dataset into 30% Training set and 70% Validation Set\n",
    "split = 42000\n",
    "\n",
    "# Random, non-contiguous split\n",
    "validation_idx = np.random.choice(indices, size=split, replace=False)\n",
    "train_idx = list(set(indices) - set(validation_idx))\n",
    "\n",
    "# Contiguous split\n",
    "# train_idx, validation_idx = indices[split:], indices[:split]\n",
    "\n",
    "## define our samplers -- we use a SubsetRandomSampler because it will return\n",
    "## a random subset of the split defined by the given indices without replaf\n",
    "train_sampler = SubsetRandomSampler(train_idx)\n",
    "validation_sampler = SubsetRandomSampler(validation_idx)\n",
    "\n",
    "train_load3 = torch.utils.data.DataLoader(mnist_trainset, batch_size=10, sampler=train_sampler)\n",
    "\n",
    "validation_load3 = torch.utils.data.DataLoader(mnist_trainset, batch_size=10, sampler=validation_sampler)"
   ]
  },
  {
   "cell_type": "code",
   "execution_count": 15,
   "metadata": {},
   "outputs": [
    {
     "name": "stdout",
     "output_type": "stream",
     "text": [
      "----------------------------------------------------\n",
      "Epoch 1  | Loss : 0.0509\n",
      "----------------------------------------------------\n",
      "Epoch 2  | Loss : 0.0382\n",
      "----------------------------------------------------\n",
      "Epoch 3  | Loss : 0.0330\n",
      "----------------------------------------------------\n",
      "Epoch 4  | Loss : 0.0306\n",
      "----------------------------------------------------\n",
      "Epoch 5  | Loss : 0.0286\n",
      "----------------------------------------------------\n",
      "Epoch 6  | Loss : 0.0279\n",
      "----------------------------------------------------\n",
      "Epoch 7  | Loss : 0.0281\n",
      "----------------------------------------------------\n",
      "Epoch 8  | Loss : 0.0255\n",
      "----------------------------------------------------\n",
      "Epoch 9  | Loss : 0.0267\n",
      "----------------------------------------------------\n",
      "Epoch 10  | Loss : 0.0257\n",
      "----------------------------------------------------\n",
      "Epoch 11  | Loss : 0.0228\n",
      "----------------------------------------------------\n",
      "Epoch 12  | Loss : 0.0233\n",
      "----------------------------------------------------\n",
      "Epoch 13  | Loss : 0.0228\n",
      "----------------------------------------------------\n",
      "Epoch 14  | Loss : 0.0240\n",
      "----------------------------------------------------\n",
      "Epoch 15  | Loss : 0.0228\n",
      "----------------------------------------------------\n",
      "Epoch 16  | Loss : 0.0256\n",
      "----------------------------------------------------\n",
      "Epoch 17  | Loss : 0.0205\n",
      "----------------------------------------------------\n",
      "Epoch 18  | Loss : 0.0225\n",
      "----------------------------------------------------\n",
      "Epoch 19  | Loss : 0.0219\n",
      "----------------------------------------------------\n",
      "Epoch 20  | Loss : 0.0214\n",
      "----------------------------------------------------\n",
      "Finished Training\n"
     ]
    }
   ],
   "source": [
    "#CNN on 30% of the Training Dataset\n",
    "num_epochs = 20\n",
    "total_step = len(train_load3)\n",
    "Loss3 = []\n",
    "print('----------------------------------------------------')\n",
    "for epoch in range(num_epochs):  # loop over the dataset multiple times\n",
    "\n",
    "    running_loss = 0.0\n",
    "    for i, data in enumerate(train_load3, 0):\n",
    "        # get the inputs\n",
    "        inputs, labels = data\n",
    "\n",
    "        # zero the parameter gradients\n",
    "        optimizer.zero_grad()\n",
    "\n",
    "        # forward + backward + optimize\n",
    "        outputs = net(inputs)\n",
    "        loss = criterion(outputs, labels)\n",
    "        loss.backward()\n",
    "        optimizer.step()\n",
    "\n",
    "        # print statistics\n",
    "        running_loss += loss.item()\n",
    "        \n",
    "    print('Epoch {}  | Loss : {:.4f}'.format(epoch+1, running_loss / total_step))        \n",
    "    print('----------------------------------------------------')\n",
    "    Loss3.append(running_loss / total_step)\n",
    "print('Finished Training')"
   ]
  },
  {
   "cell_type": "code",
   "execution_count": 16,
   "metadata": {},
   "outputs": [
    {
     "name": "stdout",
     "output_type": "stream",
     "text": [
      "Accuracy of the network on the 42000 test images: 98 %\n"
     ]
    }
   ],
   "source": [
    "#Accuracy of 70% of the Validation Test Dataset\n",
    "correct = 0\n",
    "total = 0\n",
    "with torch.no_grad():\n",
    "    for data in validation_load3:\n",
    "        images, labels = data\n",
    "        outputs = net(images)\n",
    "        _, predicted = torch.max(outputs.data, 1)\n",
    "        total += labels.size(0)\n",
    "        correct += (predicted == labels).sum().item()\n",
    "\n",
    "print('Accuracy of the network on the 42000 test images: %d %%' % (100 * correct / total))"
   ]
  },
  {
   "cell_type": "code",
   "execution_count": 17,
   "metadata": {},
   "outputs": [
    {
     "name": "stdout",
     "output_type": "stream",
     "text": [
      "Accuracy of class 0 : 99 %\n",
      "Accuracy of class 1 : 99 %\n",
      "Accuracy of class 2 : 98 %\n",
      "Accuracy of class 3 : 98 %\n",
      "Accuracy of class 4 : 99 %\n",
      "Accuracy of class 5 : 98 %\n",
      "Accuracy of class 6 : 99 %\n",
      "Accuracy of class 7 : 99 %\n",
      "Accuracy of class 8 : 96 %\n",
      "Accuracy of class 9 : 92 %\n"
     ]
    }
   ],
   "source": [
    "classes = (0, 1, 2, 3, 4, 5, 6, 7, 8, 9)\n",
    "class_correct = list(0. for i in range(10))\n",
    "class_total = list(0. for i in range(10))\n",
    "with torch.no_grad():\n",
    "    for data in validation_load3:\n",
    "        images, labels = data\n",
    "        outputs = net(images)\n",
    "        _, predicted = torch.max(outputs, 1)\n",
    "        c = (predicted == labels).squeeze()\n",
    "        for i in range(10):\n",
    "            label = labels[i]\n",
    "            class_correct[label] += c[i].item()\n",
    "            class_total[label] += 1\n",
    "\n",
    "\n",
    "for i in range(10):\n",
    "    print('Accuracy of class %s : %2d %%' % (\n",
    "        classes[i], 100 * class_correct[i] / class_total[i]))"
   ]
  },
  {
   "cell_type": "code",
   "execution_count": 18,
   "metadata": {
    "collapsed": true
   },
   "outputs": [],
   "source": [
    "num_train = len(mnist_trainset)\n",
    "indices = list(range(num_train))\n",
    "#Splitting the Dataset into 40% Training set and 60% Validation Set\n",
    "split = 36000\n",
    "\n",
    "# Random, non-contiguous split\n",
    "validation_idx = np.random.choice(indices, size=split, replace=False)\n",
    "train_idx = list(set(indices) - set(validation_idx))\n",
    "\n",
    "# Contiguous split\n",
    "# train_idx, validation_idx = indices[split:], indices[:split]\n",
    "\n",
    "## define our samplers -- we use a SubsetRandomSampler because it will return\n",
    "## a random subset of the split defined by the given indices without replaf\n",
    "train_sampler = SubsetRandomSampler(train_idx)\n",
    "validation_sampler = SubsetRandomSampler(validation_idx)\n",
    "\n",
    "train_load4 = torch.utils.data.DataLoader(mnist_trainset, batch_size=10, sampler=train_sampler)\n",
    "\n",
    "validation_load4 = torch.utils.data.DataLoader(mnist_trainset, batch_size=10, sampler=validation_sampler)"
   ]
  },
  {
   "cell_type": "code",
   "execution_count": 19,
   "metadata": {},
   "outputs": [
    {
     "name": "stdout",
     "output_type": "stream",
     "text": [
      "----------------------------------------------------\n",
      "Epoch 1  | Loss : 0.0476\n",
      "----------------------------------------------------\n",
      "Epoch 2  | Loss : 0.0378\n",
      "----------------------------------------------------\n",
      "Epoch 3  | Loss : 0.0341\n",
      "----------------------------------------------------\n",
      "Epoch 4  | Loss : 0.0310\n",
      "----------------------------------------------------\n",
      "Epoch 5  | Loss : 0.0316\n",
      "----------------------------------------------------\n",
      "Epoch 6  | Loss : 0.0305\n",
      "----------------------------------------------------\n",
      "Epoch 7  | Loss : 0.0282\n",
      "----------------------------------------------------\n",
      "Epoch 8  | Loss : 0.0285\n",
      "----------------------------------------------------\n",
      "Epoch 9  | Loss : 0.0294\n",
      "----------------------------------------------------\n",
      "Epoch 10  | Loss : 0.0258\n",
      "----------------------------------------------------\n",
      "Epoch 11  | Loss : 0.0264\n",
      "----------------------------------------------------\n",
      "Epoch 12  | Loss : 0.0270\n",
      "----------------------------------------------------\n",
      "Epoch 13  | Loss : 0.0261\n",
      "----------------------------------------------------\n",
      "Epoch 14  | Loss : 0.0262\n",
      "----------------------------------------------------\n",
      "Epoch 15  | Loss : 0.0249\n",
      "----------------------------------------------------\n",
      "Epoch 16  | Loss : 0.0261\n",
      "----------------------------------------------------\n",
      "Epoch 17  | Loss : 0.0248\n",
      "----------------------------------------------------\n",
      "Epoch 18  | Loss : 0.0261\n",
      "----------------------------------------------------\n",
      "Epoch 19  | Loss : 0.0248\n",
      "----------------------------------------------------\n",
      "Epoch 20  | Loss : 0.0246\n",
      "----------------------------------------------------\n",
      "Finished Training\n"
     ]
    }
   ],
   "source": [
    "#CNN on 40% of the Training Dataset\n",
    "num_epochs = 20\n",
    "total_step = len(train_load4)\n",
    "Loss4 = []\n",
    "print('----------------------------------------------------')\n",
    "for epoch in range(num_epochs):  # loop over the dataset multiple times\n",
    "\n",
    "    running_loss = 0.0\n",
    "    for i, data in enumerate(train_load4, 0):\n",
    "        # get the inputs\n",
    "        inputs, labels = data\n",
    "\n",
    "        # zero the parameter gradients\n",
    "        optimizer.zero_grad()\n",
    "\n",
    "        # forward + backward + optimize\n",
    "        outputs = net(inputs)\n",
    "        loss = criterion(outputs, labels)\n",
    "        loss.backward()\n",
    "        optimizer.step()\n",
    "\n",
    "        # print statistics\n",
    "        running_loss += loss.item()\n",
    "        \n",
    "    print('Epoch {}  | Loss : {:.4f}'.format(epoch+1, running_loss / total_step))        \n",
    "    print('----------------------------------------------------')\n",
    "    Loss4.append(running_loss / total_step)\n",
    "print('Finished Training')"
   ]
  },
  {
   "cell_type": "code",
   "execution_count": 20,
   "metadata": {},
   "outputs": [
    {
     "name": "stdout",
     "output_type": "stream",
     "text": [
      "Accuracy of the network on the 36000 test images: 98 %\n"
     ]
    }
   ],
   "source": [
    "#Accuracy of 60% of the Validation Test Dataset\n",
    "correct = 0\n",
    "total = 0\n",
    "with torch.no_grad():\n",
    "    for data in validation_load4:\n",
    "        images, labels = data\n",
    "        outputs = net(images)\n",
    "        _, predicted = torch.max(outputs.data, 1)\n",
    "        total += labels.size(0)\n",
    "        correct += (predicted == labels).sum().item()\n",
    "\n",
    "print('Accuracy of the network on the 36000 test images: %d %%' % (100 * correct / total))"
   ]
  },
  {
   "cell_type": "code",
   "execution_count": 21,
   "metadata": {},
   "outputs": [
    {
     "name": "stdout",
     "output_type": "stream",
     "text": [
      "Accuracy of class 0 : 99 %\n",
      "Accuracy of class 1 : 99 %\n",
      "Accuracy of class 2 : 98 %\n",
      "Accuracy of class 3 : 99 %\n",
      "Accuracy of class 4 : 98 %\n",
      "Accuracy of class 5 : 97 %\n",
      "Accuracy of class 6 : 97 %\n",
      "Accuracy of class 7 : 99 %\n",
      "Accuracy of class 8 : 97 %\n",
      "Accuracy of class 9 : 98 %\n"
     ]
    }
   ],
   "source": [
    "classes = (0, 1, 2, 3, 4, 5, 6, 7, 8, 9)\n",
    "class_correct = list(0. for i in range(10))\n",
    "class_total = list(0. for i in range(10))\n",
    "with torch.no_grad():\n",
    "    for data in validation_load4:\n",
    "        images, labels = data\n",
    "        outputs = net(images)\n",
    "        _, predicted = torch.max(outputs, 1)\n",
    "        c = (predicted == labels).squeeze()\n",
    "        for i in range(10):\n",
    "            label = labels[i]\n",
    "            class_correct[label] += c[i].item()\n",
    "            class_total[label] += 1\n",
    "\n",
    "\n",
    "for i in range(10):\n",
    "    print('Accuracy of class %s : %2d %%' % (\n",
    "        classes[i], 100 * class_correct[i] / class_total[i]))"
   ]
  },
  {
   "cell_type": "code",
   "execution_count": 22,
   "metadata": {
    "collapsed": true
   },
   "outputs": [],
   "source": [
    "num_train = len(mnist_trainset)\n",
    "indices = list(range(num_train))\n",
    "#Splitting the Dataset into 50% Training set and 50% Validation Set\n",
    "split = 30000\n",
    "\n",
    "# Random, non-contiguous split\n",
    "validation_idx = np.random.choice(indices, size=split, replace=False)\n",
    "train_idx = list(set(indices) - set(validation_idx))\n",
    "\n",
    "# Contiguous split\n",
    "# train_idx, validation_idx = indices[split:], indices[:split]\n",
    "\n",
    "## define our samplers -- we use a SubsetRandomSampler because it will return\n",
    "## a random subset of the split defined by the given indices without replaf\n",
    "train_sampler = SubsetRandomSampler(train_idx)\n",
    "validation_sampler = SubsetRandomSampler(validation_idx)\n",
    "\n",
    "train_load5 = torch.utils.data.DataLoader(mnist_trainset, batch_size=10, sampler=train_sampler)\n",
    "\n",
    "validation_load5 = torch.utils.data.DataLoader(mnist_trainset, batch_size=10, sampler=validation_sampler)"
   ]
  },
  {
   "cell_type": "code",
   "execution_count": 23,
   "metadata": {},
   "outputs": [
    {
     "name": "stdout",
     "output_type": "stream",
     "text": [
      "----------------------------------------------------\n",
      "Epoch 1  | Loss : 0.0417\n",
      "----------------------------------------------------\n",
      "Epoch 2  | Loss : 0.0358\n",
      "----------------------------------------------------\n",
      "Epoch 3  | Loss : 0.0336\n",
      "----------------------------------------------------\n",
      "Epoch 4  | Loss : 0.0326\n",
      "----------------------------------------------------\n",
      "Epoch 5  | Loss : 0.0311\n",
      "----------------------------------------------------\n",
      "Epoch 6  | Loss : 0.0328\n",
      "----------------------------------------------------\n",
      "Epoch 7  | Loss : 0.0301\n",
      "----------------------------------------------------\n",
      "Epoch 8  | Loss : 0.0304\n",
      "----------------------------------------------------\n",
      "Epoch 9  | Loss : 0.0288\n",
      "----------------------------------------------------\n",
      "Epoch 10  | Loss : 0.0301\n",
      "----------------------------------------------------\n",
      "Epoch 11  | Loss : 0.0292\n",
      "----------------------------------------------------\n",
      "Epoch 12  | Loss : 0.0281\n",
      "----------------------------------------------------\n",
      "Epoch 13  | Loss : 0.0287\n",
      "----------------------------------------------------\n",
      "Epoch 14  | Loss : 0.0279\n",
      "----------------------------------------------------\n",
      "Epoch 15  | Loss : 0.0276\n",
      "----------------------------------------------------\n",
      "Epoch 16  | Loss : 0.0304\n",
      "----------------------------------------------------\n",
      "Epoch 17  | Loss : 0.0274\n",
      "----------------------------------------------------\n",
      "Epoch 18  | Loss : 0.0268\n",
      "----------------------------------------------------\n",
      "Epoch 19  | Loss : 0.0270\n",
      "----------------------------------------------------\n",
      "Epoch 20  | Loss : 0.0271\n",
      "----------------------------------------------------\n",
      "Finished Training\n"
     ]
    }
   ],
   "source": [
    "#CNN on 50% of the Training Dataset\n",
    "num_epochs = 20\n",
    "total_step = len(train_load5)\n",
    "Loss5 = []\n",
    "print('----------------------------------------------------')\n",
    "for epoch in range(num_epochs):  # loop over the dataset multiple times\n",
    "\n",
    "    running_loss = 0.0\n",
    "    for i, data in enumerate(train_load5, 0):\n",
    "        # get the inputs\n",
    "        inputs, labels = data\n",
    "\n",
    "        # zero the parameter gradients\n",
    "        optimizer.zero_grad()\n",
    "\n",
    "        # forward + backward + optimize\n",
    "        outputs = net(inputs)\n",
    "        loss = criterion(outputs, labels)\n",
    "        loss.backward()\n",
    "        optimizer.step()\n",
    "\n",
    "        # print statistics\n",
    "        running_loss += loss.item()\n",
    "        \n",
    "    print('Epoch {}  | Loss : {:.4f}'.format(epoch+1, running_loss / total_step))        \n",
    "    print('----------------------------------------------------')\n",
    "    Loss5.append(running_loss / total_step)\n",
    "print('Finished Training')"
   ]
  },
  {
   "cell_type": "code",
   "execution_count": 24,
   "metadata": {},
   "outputs": [
    {
     "name": "stdout",
     "output_type": "stream",
     "text": [
      "Accuracy of the network on the 30000 test images: 98 %\n"
     ]
    }
   ],
   "source": [
    "#Accuracy of 50% of the Validation Test Dataset\n",
    "correct = 0\n",
    "total = 0\n",
    "with torch.no_grad():\n",
    "    for data in validation_load5:\n",
    "        images, labels = data\n",
    "        outputs = net(images)\n",
    "        _, predicted = torch.max(outputs.data, 1)\n",
    "        total += labels.size(0)\n",
    "        correct += (predicted == labels).sum().item()\n",
    "\n",
    "print('Accuracy of the network on the 30000 test images: %d %%' % (100 * correct / total))"
   ]
  },
  {
   "cell_type": "code",
   "execution_count": 25,
   "metadata": {},
   "outputs": [
    {
     "name": "stdout",
     "output_type": "stream",
     "text": [
      "Accuracy of class 0 : 98 %\n",
      "Accuracy of class 1 : 97 %\n",
      "Accuracy of class 2 : 99 %\n",
      "Accuracy of class 3 : 98 %\n",
      "Accuracy of class 4 : 96 %\n",
      "Accuracy of class 5 : 97 %\n",
      "Accuracy of class 6 : 98 %\n",
      "Accuracy of class 7 : 97 %\n",
      "Accuracy of class 8 : 99 %\n",
      "Accuracy of class 9 : 98 %\n"
     ]
    }
   ],
   "source": [
    "classes = (0, 1, 2, 3, 4, 5, 6, 7, 8, 9)\n",
    "class_correct = list(0. for i in range(10))\n",
    "class_total = list(0. for i in range(10))\n",
    "with torch.no_grad():\n",
    "    for data in validation_load5:\n",
    "        images, labels = data\n",
    "        outputs = net(images)\n",
    "        _, predicted = torch.max(outputs, 1)\n",
    "        c = (predicted == labels).squeeze()\n",
    "        for i in range(10):\n",
    "            label = labels[i]\n",
    "            class_correct[label] += c[i].item()\n",
    "            class_total[label] += 1\n",
    "\n",
    "\n",
    "for i in range(10):\n",
    "    print('Accuracy of class %s : %2d %%' % (\n",
    "        classes[i], 100 * class_correct[i] / class_total[i]))"
   ]
  },
  {
   "cell_type": "code",
   "execution_count": 26,
   "metadata": {},
   "outputs": [
    {
     "data": {
      "image/png": "[encoded data removed]",
      "text/plain": [
       "<matplotlib.figure.Figure at 0x11bdd1c50>"
      ]
     },
     "metadata": {},
     "output_type": "display_data"
    }
   ],
   "source": [
    "plt.plot(Loss1, 'r--', label = \"10% Training Data\")\n",
    "plt.plot(Loss2, 'b--', label = \"20% Training Data\")\n",
    "plt.plot(Loss3, 'y--', label = \"30% Training Data\")\n",
    "plt.plot(Loss4, 'g--', label = \"40% Training Data\")\n",
    "plt.plot(Loss5, 'k--', label = \"50% Training Data\")\n",
    "plt.title(\"Loss vs Epoch for MNIST Dataset (using CNN)\")\n",
    "plt.xlim([0, num_epochs])\n",
    "plt.xlabel(\"Epoch\")\n",
    "plt.ylabel(\"Loss\")\n",
    "plt.legend(bbox_to_anchor=(1.05, 1), loc=2, borderaxespad=0.)\n",
    "plt.show()"
   ]
  },
  {
   "cell_type": "code",
   "execution_count": null,
   "metadata": {
    "collapsed": true
   },
   "outputs": [],
   "source": []
  }
 ],
 "metadata": {
  "kernelspec": {
   "display_name": "Python 3",
   "language": "python",
   "name": "python3"
  },
  "language_info": {
   "codemirror_mode": {
    "name": "ipython",
    "version": 3
   },
   "file_extension": ".py",
   "mimetype": "text/x-python",
   "name": "python",
   "nbconvert_exporter": "python",
   "pygments_lexer": "ipython3",
   "version": "3.6.3"
  }
 },
 "nbformat": 4,
 "nbformat_minor": 2
}
